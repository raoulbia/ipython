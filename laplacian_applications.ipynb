{
  "nbformat": 4,
  "nbformat_minor": 0,
  "metadata": {
    "colab": {
      "name": "laplacian-applications.ipynb",
      "version": "0.3.2",
      "provenance": [],
      "collapsed_sections": []
    },
    "kernelspec": {
      "name": "python3",
      "display_name": "Python 3"
    }
  },
  "cells": [
    {
      "metadata": {
        "id": "nW0INgeUMWh8",
        "colab_type": "text"
      },
      "cell_type": "markdown",
      "source": [
        "# Graphs: Application of Laplacian Matrix\n",
        "\n",
        "\n",
        "\n",
        "**Matrix Tree Theorem**:\n",
        "\n",
        "<p align=\"center\"> *Any cofactor of K is equal to the number of spanning trees of G.*\n",
        "\n",
        "\n",
        "\n",
        "\n"
      ]
    },
    {
      "metadata": {
        "id": "Z3s66AMFOyg3",
        "colab_type": "text"
      },
      "cell_type": "markdown",
      "source": [
        "**Set up the Data** as per Kirby et al., 2016"
      ]
    },
    {
      "metadata": {
        "id": "6QkmGM6mMUqg",
        "colab_type": "code",
        "colab": {}
      },
      "cell_type": "code",
      "source": [
        "import math\n",
        "import scipy\n",
        "from scipy.sparse import csr_matrix\n",
        "import networkx as nx\n",
        "import numpy as np\n",
        "import matplotlib.pyplot as plt"
      ],
      "execution_count": 0,
      "outputs": []
    },
    {
      "metadata": {
        "id": "YIimO9zgMvt0",
        "colab_type": "code",
        "colab": {
          "base_uri": "https://localhost:8080/",
          "height": 445
        },
        "outputId": "4945adab-48b0-4366-887b-bd6ab7f9bf1e"
      },
      "cell_type": "code",
      "source": [
        "edgelist = ['1 2', '8 1', '2 3', '4 3', '8 3', '5 4', '4 7', '6 5', '7 6', '6 8']\n",
        "\n",
        "G = nx.parse_edgelist(edgelist, create_using=nx.DiGraph(), nodetype=int)\n",
        "fixed_positions = {1:(10,0), 2:(10,4), 3:(6,4), 4:(2,4), 5:(0,2), 6:(2,0), 7:(2,2), 8:(6,0)}\n",
        "fixed_nodes = fixed_positions.keys()\n",
        "pos = nx.spring_layout(G, pos=fixed_positions, fixed=fixed_nodes)\n",
        "nx.draw(G, pos)\n",
        "plt.show()\n"
      ],
      "execution_count": 90,
      "outputs": [
        {
          "output_type": "display_data",
          "data": {
            "image/png": "[encoded data removed]",
            "text/plain": [
              "<matplotlib.figure.Figure at 0x7fbc13e17748>"
            ]
          },
          "metadata": {
            "tags": []
          }
        }
      ]
    },
    {
      "metadata": {
        "id": "2bQprKmdS2VD",
        "colab_type": "text"
      },
      "cell_type": "markdown",
      "source": [
        "**Get Adjacency Matrix A**"
      ]
    },
    {
      "metadata": {
        "id": "n_nhi26xTDcU",
        "colab_type": "code",
        "colab": {
          "base_uri": "https://localhost:8080/",
          "height": 163
        },
        "outputId": "9c90f034-5a95-4871-dc75-8395d2da0b86"
      },
      "cell_type": "code",
      "source": [
        "A = nx.to_scipy_sparse_matrix(G)\n",
        "print(A.todense())"
      ],
      "execution_count": 91,
      "outputs": [
        {
          "output_type": "stream",
          "text": [
            "[[0 1 0 0 0 0 0 0]\n",
            " [0 0 0 1 0 0 0 0]\n",
            " [1 0 0 1 0 0 0 0]\n",
            " [0 0 0 0 0 0 0 0]\n",
            " [0 0 0 1 0 0 1 0]\n",
            " [0 0 0 0 1 0 0 0]\n",
            " [0 0 0 0 0 0 0 1]\n",
            " [0 0 1 0 0 1 0 0]]\n"
          ],
          "name": "stdout"
        }
      ]
    },
    {
      "metadata": {
        "id": "BjGTuEWMPNli",
        "colab_type": "text"
      },
      "cell_type": "markdown",
      "source": [
        "**Get Incidence Matrix B**"
      ]
    },
    {
      "metadata": {
        "id": "v42Awz8XPR0t",
        "colab_type": "code",
        "colab": {
          "base_uri": "https://localhost:8080/",
          "height": 181
        },
        "outputId": "db6f898b-abd8-4a0c-8ffb-9f0ae18103a1"
      },
      "cell_type": "code",
      "source": [
        "B = nx.incidence_matrix(G, oriented=True, nodelist=[1,2,3,4,5,6,7,8]) # must provide nodelist to reproduce L as in shown in paper Figure 1.\n",
        "print(B.todense()) # B is a SciPy sparse matrix\n",
        "print('Incidence Matrix dimensions (rowsxcols): ', B.shape)"
      ],
      "execution_count": 92,
      "outputs": [
        {
          "output_type": "stream",
          "text": [
            "[[-1.  0.  1.  0.  0.  0.  0.  0.  0.  0.]\n",
            " [ 1. -1.  0.  0.  0.  0.  0.  0.  0.  0.]\n",
            " [ 0.  1.  0.  1.  1.  0.  0.  0.  0.  0.]\n",
            " [ 0.  0.  0.  0. -1. -1.  1.  0.  0.  0.]\n",
            " [ 0.  0.  0.  0.  0.  0. -1.  0.  1.  0.]\n",
            " [ 0.  0.  0.  0.  0.  0.  0.  1. -1. -1.]\n",
            " [ 0.  0.  0.  0.  0.  1.  0. -1.  0.  0.]\n",
            " [ 0.  0. -1. -1.  0.  0.  0.  0.  0.  1.]]\n",
            "Incidence Matrix dimensions (rowsxcols):  (8, 10)\n"
          ],
          "name": "stdout"
        }
      ]
    },
    {
      "metadata": {
        "id": "9nUpg62qO2jf",
        "colab_type": "text"
      },
      "cell_type": "markdown",
      "source": [
        "**Get Laplacian from Adjacency Matrix A** (using Scipy in-built function)"
      ]
    },
    {
      "metadata": {
        "id": "uTbf4O-KO_Cw",
        "colab_type": "code",
        "colab": {
          "base_uri": "https://localhost:8080/",
          "height": 235
        },
        "outputId": "5c8fb0bf-c1c2-43cf-d329-7745d3b7c649"
      },
      "cell_type": "code",
      "source": [
        "L_fromA = scipy.sparse.csgraph.laplacian(csgraph=A, use_out_degree=True)           # scipy needs to get a NxN representation of G\n",
        "L_fromA = L_fromA.todense()\n",
        "print('\\nLaplacian matrix from A\\n', L_fromA)\n",
        "print('\\n this matrix is of no use for the purpose of computing the nbr of spanning trees in G.')"
      ],
      "execution_count": 93,
      "outputs": [
        {
          "output_type": "stream",
          "text": [
            "\n",
            "Laplacian matrix from A\n",
            " [[ 1 -1  0  0  0  0  0  0]\n",
            " [ 0  1  0 -1  0  0  0  0]\n",
            " [-1  0  2 -1  0  0  0  0]\n",
            " [ 0  0  0  0  0  0  0  0]\n",
            " [ 0  0  0 -1  2  0 -1  0]\n",
            " [ 0  0  0  0 -1  1  0  0]\n",
            " [ 0  0  0  0  0  0  1 -1]\n",
            " [ 0  0 -1  0  0 -1  0  2]]\n",
            "\n",
            " this matrix is of no use for the purpose of computing the nbr of spanning trees in G.\n"
          ],
          "name": "stdout"
        }
      ]
    },
    {
      "metadata": {
        "id": "6LNwTH7dTZLt",
        "colab_type": "text"
      },
      "cell_type": "markdown",
      "source": [
        "**Get Laplacian from Incidence Matrix B**\n",
        "\n",
        "> **Important**: the order of the matrix multiplication depends on the shape of the incidence matrix:\n",
        "\n",
        "> *  if nodes are rows and edges are columns: B * B.T\n",
        "> *  if edges are rows and nodes are columns: B.T * B\n",
        "\n",
        "\n",
        ">In this case we have a node > edges Incidence Matrix B."
      ]
    },
    {
      "metadata": {
        "id": "oQuVrKohTffO",
        "colab_type": "code",
        "colab": {
          "base_uri": "https://localhost:8080/",
          "height": 235
        },
        "outputId": "499e0249-58c3-4fe8-d1fc-5956e3c1be59"
      },
      "cell_type": "code",
      "source": [
        "L_fromB = B * B.T                # (8x10)x(10x8) -> L.shape: 8x8\n",
        "L_fromB = L_fromB.todense()\n",
        "print('Laplacian Matrix of the node -> edges incidence matrix of G:\\n\\n', L_fromB)\n",
        "print('\\n This is the same matrix as shown in Figure 1 in Kireby etal., 2016.')"
      ],
      "execution_count": 94,
      "outputs": [
        {
          "output_type": "stream",
          "text": [
            "Laplacian Matrix of the node -> edges incidence matrix of G:\n",
            "\n",
            " [[ 2. -1.  0.  0.  0.  0.  0. -1.]\n",
            " [-1.  2. -1.  0.  0.  0.  0.  0.]\n",
            " [ 0. -1.  3. -1.  0.  0.  0. -1.]\n",
            " [ 0.  0. -1.  3. -1.  0. -1.  0.]\n",
            " [ 0.  0.  0. -1.  2. -1.  0.  0.]\n",
            " [ 0.  0.  0.  0. -1.  3. -1. -1.]\n",
            " [ 0.  0.  0. -1.  0. -1.  2.  0.]\n",
            " [-1.  0. -1.  0.  0. -1.  0.  3.]]\n",
            "\n",
            " This is the same matrix as shown in Figure 1 in Kireby etal., 2016.\n"
          ],
          "name": "stdout"
        }
      ]
    },
    {
      "metadata": {
        "id": "zgxtKX9bXV2M",
        "colab_type": "text"
      },
      "cell_type": "markdown",
      "source": [
        "**Get Number of Spanning Trees** using L obtained from Incidence Matrix B.\n",
        "\n",
        "Note that using L obtained from A does not return the expected number of spaning trees."
      ]
    },
    {
      "metadata": {
        "id": "EOniBqUiV_x7",
        "colab_type": "code",
        "colab": {
          "base_uri": "https://localhost:8080/",
          "height": 108
        },
        "outputId": "16d8bbdd-64d0-405d-bce5-2c090191bfc9"
      },
      "cell_type": "code",
      "source": [
        "Lsub = L_fromB[1:, 1:] # exclude the first row and the first column\n",
        "cofactor = np.linalg.det(Lsub)\n",
        "print('nbr spanning trees in G using L from B:', math.ceil(cofactor), '\\n\\nThis result matches Kirby et al., 2016!\\n\\n')"
      ],
      "execution_count": 95,
      "outputs": [
        {
          "output_type": "stream",
          "text": [
            "nbr spanning trees in G using L from B: 60 \n",
            "\n",
            "This result matches Kirby et al., 2016!\n",
            "\n",
            "\n"
          ],
          "name": "stdout"
        }
      ]
    },
    {
      "metadata": {
        "id": "4DI0-z4YbH6l",
        "colab_type": "text"
      },
      "cell_type": "markdown",
      "source": [
        "**Definitions**:\n",
        "\n",
        "*   Cofactor: The determinant obtained by deleting the row and column of a given element of a matrix or determinant.\n",
        "*   Determinant: A single number obtained from a matrix that reveals a variety of the matrix's properties.\n"
      ]
    },
    {
      "metadata": {
        "id": "09ASfT1LcDwA",
        "colab_type": "text"
      },
      "cell_type": "markdown",
      "source": [
        "**Reference**:\n",
        "\n",
        "Kirby, E.C., Mallion, R.B., Pollak, P. and Skrzyński, P.J. 2016. What Kirchhoff Actually did Concerning Spanning Trees in Electrical Networks and its Relationship to Modern Graph-Theoretical Work. Croatica Chemica Acta, 89(4), pp.403–417."
      ]
    }
  ]
}