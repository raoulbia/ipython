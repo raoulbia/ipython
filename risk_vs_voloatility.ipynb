{
  "nbformat": 4,
  "nbformat_minor": 0,
  "metadata": {
    "colab": {
      "name": "risk-vs.voloatility.ipynb",
      "provenance": [],
      "collapsed_sections": []
    },
    "kernelspec": {
      "name": "python3",
      "display_name": "Python 3"
    }
  },
  "cells": [
    {
      "cell_type": "code",
      "metadata": {
        "id": "SuPC7-Rz8V2O",
        "colab_type": "code",
        "colab": {}
      },
      "source": [
        "import numpy as np\n",
        "import pandas as pd\n",
        "import numpy as np\n",
        "import matplotlib.pyplot as plt\n",
        "import seaborn as sns\n",
        "from pprint import pprint"
      ],
      "execution_count": 0,
      "outputs": []
    },
    {
      "cell_type": "code",
      "metadata": {
        "id": "1UVXwH_O8fUd",
        "colab_type": "code",
        "colab": {
          "base_uri": "https://localhost:8080/",
          "height": 834
        },
        "outputId": "99a62c5c-004e-4c08-efca-17e58e5f196a"
      },
      "source": [
        "\"\"\" cov(x,y) = +2 i.e. move together when one increases, so does the other \"\"\"\n",
        "\n",
        "a = np.array([1,2,3]) # daily returns\n",
        "b = np.array([2,4,6]) # daily returns\n",
        "\n",
        "# capital allocation\n",
        "w = [[1, 0], \n",
        "     [0.75, 0.25],\n",
        "     [0.5, 0.5],\n",
        "     [0.25, 0.75],\n",
        "     [0, 1]]\n",
        "\n",
        "# part 1 get the data\n",
        "returns = np.column_stack([a,b])\n",
        "print('returns:\\n', returns)\n",
        "\n",
        "# part 2.1 get mean return for each asset\n",
        "mu_values = returns.mean(axis=0)\n",
        "print('mu_values: ', mu_values)\n",
        "\n",
        "# part 2.2 compute asset covariance\n",
        "cov = np.cov(returns.T) # .T -> each row represents an asset\n",
        "print('covariance matrix:\\n', cov)\n",
        "\n",
        "erts, epovo, vola = [], [], []\n",
        "for alloc in w:\n",
        "    w = np.array(alloc)\n",
        "    print('\\nweights: ', w)\n",
        "    # part 3.1 compute expected return based on selected allocation (weights)\n",
        "    expected_return = w @ mu_values\n",
        "    erts.append(expected_return)\n",
        "    print('expected_return based on captial allocation w: ', expected_return)\n",
        "\n",
        "    # part 3.2 compute expected portfolio variance & std based on selected allocation (weights)\n",
        "    expected_portfolio_variance = w.T @ cov @ w\n",
        "    epovo.append(expected_portfolio_variance)\n",
        "    print('expected_portfolio_variance ', expected_portfolio_variance)\n",
        "\n",
        "    # standard deviation = sqrt(variance)\n",
        "    volatility = np.sqrt(expected_portfolio_variance) \n",
        "    vola.append(volatility)\n",
        "    print('volatility', volatility)\n",
        "\n",
        "\n",
        "# now we can plot expected return vs. risk/volatility !!!\n",
        "df = pd.DataFrame(list(zip(vola, erts)), columns =['volatility', 'expected_return']) \n",
        "df \n",
        "\n",
        "plt.figure(figsize=(5,4))\n",
        "plot = sns.scatterplot(x='volatility', y='expected_return', data=df)\n"
      ],
      "execution_count": 10,
      "outputs": [
        {
          "output_type": "stream",
          "text": [
            "returns:\n",
            " [[1 2]\n",
            " [2 4]\n",
            " [3 6]]\n",
            "mu_values:  [2. 4.]\n",
            "covariance matrix:\n",
            " [[1. 2.]\n",
            " [2. 4.]]\n",
            "\n",
            "weights:  [1 0]\n",
            "expected_return based on captial allocation w:  2.0\n",
            "expected_portfolio_variance  1.0\n",
            "volatility 1.0\n",
            "\n",
            "weights:  [0.75 0.25]\n",
            "expected_return based on captial allocation w:  2.5\n",
            "expected_portfolio_variance  1.5625\n",
            "volatility 1.25\n",
            "\n",
            "weights:  [0.5 0.5]\n",
            "expected_return based on captial allocation w:  3.0\n",
            "expected_portfolio_variance  2.25\n",
            "volatility 1.5\n",
            "\n",
            "weights:  [0.25 0.75]\n",
            "expected_return based on captial allocation w:  3.5\n",
            "expected_portfolio_variance  3.0625\n",
            "volatility 1.75\n",
            "\n",
            "weights:  [0 1]\n",
            "expected_return based on captial allocation w:  4.0\n",
            "expected_portfolio_variance  4.0\n",
            "volatility 2.0\n"
          ],
          "name": "stdout"
        },
        {
          "output_type": "display_data",
          "data": {
            "image/png": "[encoded data removed]",
            "text/plain": [
              "<Figure size 360x288 with 1 Axes>"
            ]
          },
          "metadata": {
            "tags": []
          }
        }
      ]
    }
  ]
}