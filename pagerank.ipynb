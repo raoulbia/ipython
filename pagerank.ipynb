{
  "nbformat": 4,
  "nbformat_minor": 0,
  "metadata": {
    "colab": {
      "name": "pagerank.ipynb",
      "version": "0.3.2",
      "provenance": [],
      "collapsed_sections": []
    },
    "kernelspec": {
      "name": "python3",
      "display_name": "Python 3"
    }
  },
  "cells": [
    {
      "metadata": {
        "id": "5g08n8Kh_DSs",
        "colab_type": "text"
      },
      "cell_type": "markdown",
      "source": [
        "# Graphs: Google PageRank Step By Step\n",
        "\n",
        "This page shows step by step how to compute Google PageRank (Page et al., 1999)."
      ]
    },
    {
      "metadata": {
        "id": "veHOCfI1Y1i4",
        "colab_type": "code",
        "colab": {
          "base_uri": "https://localhost:8080/",
          "height": 34
        },
        "outputId": "d7dbe984-f38d-48eb-b5f2-147e25fef093"
      },
      "cell_type": "code",
      "source": [
        "import operator\n",
        "import networkx as nx\n",
        "import numpy as np\n",
        "import scipy\n",
        "from scipy.sparse import csr_matrix\n",
        "import matplotlib.pyplot as plt\n",
        "\n",
        "np.set_printoptions(precision=3, suppress=True, formatter={'float': '{: 0.4f}'.format}) # Suppress Scientific Notation in Numpy\n",
        "\n",
        "print('NetworkX version:', nx.__version__)"
      ],
      "execution_count": 331,
      "outputs": [
        {
          "output_type": "stream",
          "text": [
            "NetworkX version: 2.1\n"
          ],
          "name": "stdout"
        }
      ]
    },
    {
      "metadata": {
        "id": "bgBiKXV9b8bf",
        "colab_type": "text"
      },
      "cell_type": "markdown",
      "source": [
        "**Create  toy graph **\n",
        "\n",
        "Toy graph taken from the course [Networks: Friends, Money, and Bytes](https://www.coursera.org/learn/friends-money-bytes/) (Week 2 Lesson 3)."
      ]
    },
    {
      "metadata": {
        "id": "XSurrDsOS7xl",
        "colab_type": "code",
        "colab": {
          "base_uri": "https://localhost:8080/",
          "height": 347
        },
        "outputId": "b4f50ebc-83fb-4a12-e4ed-f08f75cb535d"
      },
      "cell_type": "code",
      "source": [
        "G = nx.DiGraph() # directed\n",
        "\n",
        "# Graph 2\n",
        "G.add_edge(1, 2)\n",
        "G.add_edge(1, 3)\n",
        "G.add_edge(2, 1)\n",
        "G.add_edge(2, 5)\n",
        "G.add_edge(3, 2)\n",
        "G.add_edge(3, 8)\n",
        "G.add_edge(4, 3)\n",
        "G.add_edge(5, 4)\n",
        "G.add_edge(5, 8)\n",
        "G.add_edge(6, 4)\n",
        "G.add_edge(6, 5)\n",
        "G.add_edge(7, 6)\n",
        "G.add_edge(7, 4)\n",
        "G.add_edge(8, 7)\n",
        "G.add_edge(8, 4)\n",
        "G.add_edge(8, 1)\n",
        "fixed_positions = {1:(1,8), 2:(1,3), 3:(3.5,5.5), 4:(6.5,5.5),\n",
        "                   5:(9,1), 6:(11.5,3.5), 7:(11.5,7.5), 8:(9,9.5)}\n",
        "\n",
        "\n",
        "fixed_nodes = fixed_positions.keys()\n",
        "pos = nx.spring_layout(G, pos=fixed_positions, fixed=fixed_nodes)\n",
        "\n",
        "# show G\n",
        "nx.draw_networkx_nodes(G,pos)\n",
        "nx.draw(G, pos, with_labels=True, node_color='white')"
      ],
      "execution_count": 332,
      "outputs": [
        {
          "output_type": "display_data",
          "data": {
            "image/png": "[encoded data removed]",
            "text/plain": [
              "<matplotlib.figure.Figure at 0x7fdcbce11080>"
            ]
          },
          "metadata": {
            "tags": []
          }
        }
      ]
    },
    {
      "metadata": {
        "id": "oOBdBo4yS3mU",
        "colab_type": "text"
      },
      "cell_type": "markdown",
      "source": [
        "**PageRank Implementation**"
      ]
    },
    {
      "metadata": {
        "id": "Sl54475RHz9m",
        "colab_type": "text"
      },
      "cell_type": "markdown",
      "source": [
        "*Example 1: Computing the Google matrix*\n",
        "\n",
        "* the google matrix can be defined as a :<br> *transition matrix of the Markov chain of a random progression through web pages* <br>(random because web surfers don't uniformely pick one of the links).\n",
        "* computing the google matrix is the key first step to compute page ranks. \n",
        "* In this example we just make sure that this step is implemented correctly.\n",
        "* example taken from [Wikiversity](https://en.wikiversity.org/wiki/Google/Matrix).\n",
        "* Googel Matrix formula:\n",
        "  $$Google\\ Matrix  = \\theta B + \\frac{1-\\theta}{N} \\ (\\vec{1} \\cdot \\vec{1}.T)$$\n",
        "  where \n",
        "  * *B* is the transition matrix of the input graph G\n",
        "  * $\\theta$ is the parameter used to introduce a *random progression* element to the transition matrix *B* \n",
        "  * $\\vec{1}$ is a vector of ones\n",
        "  \n",
        "* About *random progression*:\n",
        "\n",
        "  * When computing PageRanks one must keep in mind that web surfers are at the core of these rankings.\n",
        "  * Hence it is not sufficient to solely consider the link structure of the web and its corresponding transitions probability matrix derived from that link structure. \n",
        "  \n",
        "  * Indeed, supposing that a websurfer is on some webpage and has a number N of possible links to select from as a next destination, web surfers do not always pick this destination link with a 1/N probability uniformely distributed over all available links. \n",
        "  \n",
        "  * Therefore, the transition matrix $B$ is augmented by adding to each element $B_{ij}$ some random quantity. Ther magnitude if this quantity  is determined by the value of $\\theta$.\n",
        "  \n",
        "  * A commonly used value for  $\\theta$ is 0.85 which is considered a erasonable tradeoff between the linbk structure of the graph and the random/unpredictable side of human behavior."
      ]
    },
    {
      "metadata": {
        "id": "uDIUlVvS72oI",
        "colab_type": "code",
        "colab": {
          "base_uri": "https://localhost:8080/",
          "height": 353
        },
        "outputId": "99cff5b3-f802-4df5-f7f6-87494defd5ee"
      },
      "cell_type": "code",
      "source": [
        "# Initialize some useful values\n",
        "theta = 0.85\n",
        "N = 3\n",
        "\n",
        "# Initialize a rank 1 vector of ones\n",
        "# will be used to produce an NxN matrix of ones by multiplying the vector of ones (Nx1) with its transpose (1xN)\n",
        "ones = np.ones((N,), dtype=int) # row vector\n",
        "ones.shape = (N,1) # force it to be a column vector\n",
        "# print(ones * ones.T) \n",
        "\n",
        "# Transition matrix B of A\n",
        "A = np.matrix([[0, 1, 1], [1, 0, 0], [0, 1, 0]])\n",
        "print('\\nAdjaceny matrix A:\\n\\n', A)\n",
        "L, D = scipy.sparse.csgraph.laplacian(csgraph=A, return_diag=True, use_out_degree=True) # important to specify the use of out degree!! \n",
        "degree_matrix = np.diag(D) # np.diag is needed to turn the degree array returned by scipy into a matrix\n",
        "D_inv = np.linalg.inv(degree_matrix)\n",
        "B = D_inv * A\n",
        "print('\\nTransition probability matrix B of A at time t=0:\\n\\n', B)\n",
        "\n",
        "# Google Matrix C\n",
        "C = (theta * B) + ((1-theta) / N * (ones * ones.T))\n",
        "print('\\nGoogle Matrix:\\n\\n', C)\n",
        "print('\\n this result matches the result shown in the source example.')"
      ],
      "execution_count": 333,
      "outputs": [
        {
          "output_type": "stream",
          "text": [
            "\n",
            "Adjaceny matrix A:\n",
            "\n",
            " [[0 1 1]\n",
            " [1 0 0]\n",
            " [0 1 0]]\n",
            "\n",
            "Transition probability matrix B of A at time t=0:\n",
            "\n",
            " [[ 0.0000  0.5000  0.5000]\n",
            " [ 1.0000  0.0000  0.0000]\n",
            " [ 0.0000  1.0000  0.0000]]\n",
            "\n",
            "Google Matrix:\n",
            "\n",
            " [[ 0.0500  0.4750  0.4750]\n",
            " [ 0.9000  0.0500  0.0500]\n",
            " [ 0.0500  0.9000  0.0500]]\n",
            "\n",
            " this result matches the result shown in the source example.\n"
          ],
          "name": "stdout"
        }
      ]
    },
    {
      "metadata": {
        "id": "K6kJB3hyIaE2",
        "colab_type": "text"
      },
      "cell_type": "markdown",
      "source": [
        "<br>*Example 2: Computing Pagrank from the Googel Matrix*\n",
        "\n",
        "* In this example we first compute the Google matrix, then we apply the iterations to update the PageRank vector until it converges to a * to fixed, steady-state quantity*.\n",
        "* example is based on the algorithm presented in [Networks: Friends, Money, and Bytes!](https://www.coursera.org/learn/friends-money-bytes/home/week/2) (Week 2 Lesson 2).\n",
        "\n",
        "* Steps:\n",
        "\n",
        "  1. Compute adjaceny matrix $H$ from $G$.\n",
        "  2. Deal with dangling nodes in $H$.\n",
        "  3. Compute transition probability matrix $B$ from $H$.\n",
        "  4. Compute Google Matrix $C$ by incorporating randomization into $B$.\n",
        "  5. Compute the PageRank vector $\\vec{p}$:\n",
        "       * Initialize PageRank vector elements to 1/N\n",
        "       * Iterate over the PageRank vector as follows:\n",
        "  \n",
        "  $$\\vec{p}[k+1] = \\vec{p}[k] \\cdot C$$\n",
        "  "
      ]
    },
    {
      "metadata": {
        "id": "8T4n9qBnzJJw",
        "colab_type": "text"
      },
      "cell_type": "markdown",
      "source": [
        "*Step 1: Compute adjaceny matrix $H$ from $G$.*"
      ]
    },
    {
      "metadata": {
        "id": "1Io0La2D1DLU",
        "colab_type": "code",
        "colab": {}
      },
      "cell_type": "code",
      "source": [
        "# Initialize some useful values\n",
        "theta = 0.85\n",
        "out_degree_dict = dict(G.out_degree()) # needed for option 1\n",
        "N = nx.number_of_nodes(G)\n",
        "# print(type(out_degree_dict))\n",
        "# print(N)\n",
        "\n",
        "# Initialize create a rank 1 vector of ones\n",
        "ones = np.ones((N,), dtype=int) # row vector\n",
        "ones.shape = (N,1) # force it to be a column vector\n",
        "# print(ones)"
      ],
      "execution_count": 0,
      "outputs": []
    },
    {
      "metadata": {
        "id": "9mKl2V7Scb00",
        "colab_type": "code",
        "colab": {
          "base_uri": "https://localhost:8080/",
          "height": 185
        },
        "outputId": "1925378e-5b47-4086-ed93-750be58ef73e"
      },
      "cell_type": "code",
      "source": [
        "# Get the Adjacency matrix H\n",
        "H = nx.to_scipy_sparse_matrix(G, nodelist=[1,2,3,4,5,6,7,8])\n",
        "H = H.todense()\n",
        "print('\\nAdjacency Matrix H of G:\\n', H)"
      ],
      "execution_count": 335,
      "outputs": [
        {
          "output_type": "stream",
          "text": [
            "\n",
            "Adjacency Matrix H of G:\n",
            " [[0 1 1 0 0 0 0 0]\n",
            " [1 0 0 0 1 0 0 0]\n",
            " [0 1 0 0 0 0 0 1]\n",
            " [0 0 1 0 0 0 0 0]\n",
            " [0 0 0 1 0 0 0 1]\n",
            " [0 0 0 1 1 0 0 0]\n",
            " [0 0 0 1 0 1 0 0]\n",
            " [1 0 0 1 0 0 1 0]]\n"
          ],
          "name": "stdout"
        }
      ]
    },
    {
      "metadata": {
        "id": "xEDdjy4Rd6Sp",
        "colab_type": "text"
      },
      "cell_type": "markdown",
      "source": [
        "*Step 2: Deal with dangling nodes in $H$.*\n",
        "\n",
        "  * In the adjacency matrix, dangling nodes translate to rows with all zeros. If left unchanged this will cuases issues in the PageRank calculation (see lecure for more details).\n",
        "  * In order to deal with dangling nodes we augment $H$ by adding a matrix to $H$ such that there are no rows with all zeros. Specifically, the row of zeros for dangling nodes are replaced by 1/N. The row then adds up to 1. This is referred to as **mandatory score spreading**. \n",
        "  \n",
        "  * Dangling nodes formula: $\\hat{H} = H + \\frac{1}{N} \\cdot w \\cdot \\vec{1}.T$\n",
        "  \n",
        "    where \n",
        "    \n",
        "    * $w$ is a binary `Nx1` vector to indicate which nodes are dangling\n",
        "    \n",
        "    * $\\vec{1}$ is a vector of ones\n",
        "  \n",
        "  "
      ]
    },
    {
      "metadata": {
        "id": "xJlfCBK9b7Sc",
        "colab_type": "code",
        "colab": {
          "base_uri": "https://localhost:8080/",
          "height": 420
        },
        "outputId": "cfffb548-33f6-4e5d-f7e5-c34c38a089e2"
      },
      "cell_type": "code",
      "source": [
        "# Get Nodes that have no outlink\n",
        "dangling_nodes = []\n",
        "[dangling_nodes.append(node) for node, out_degree in out_degree_dict.items() if out_degree == 0]\n",
        "print('\\nDangling Nodes:', dangling_nodes)\n",
        "\n",
        "\n",
        "# Construct vector to indicate which nodes are dangling\n",
        "w = np.zeros((N,1), dtype=int) # column vector\n",
        "for i in dangling_nodes:\n",
        "  w[i] = 1\n",
        "# print(w)\n",
        "\n",
        "# create matrix that will be added to H to deal with dandgling nodes\n",
        "score_spreading_matrix = 1/N * w * ones.T # outer product \n",
        "# print('\\nArtifical matrix \\n(will be added to H to deal with dandgling nodes)\\n', score_spreading_matrix)\n",
        "\n",
        "# add artificial matrix to H\n",
        "HHat = H + score_spreading_matrix\n",
        "print('\\nH before score spreading:\\n\\n', H)\n",
        "print('\\nH after score spreading:\\n\\n', HHat)"
      ],
      "execution_count": 336,
      "outputs": [
        {
          "output_type": "stream",
          "text": [
            "\n",
            "Dangling Nodes: []\n",
            "\n",
            "H before score spreading:\n",
            "\n",
            " [[0 1 1 0 0 0 0 0]\n",
            " [1 0 0 0 1 0 0 0]\n",
            " [0 1 0 0 0 0 0 1]\n",
            " [0 0 1 0 0 0 0 0]\n",
            " [0 0 0 1 0 0 0 1]\n",
            " [0 0 0 1 1 0 0 0]\n",
            " [0 0 0 1 0 1 0 0]\n",
            " [1 0 0 1 0 0 1 0]]\n",
            "\n",
            "H after score spreading:\n",
            "\n",
            " [[ 0.0000  1.0000  1.0000  0.0000  0.0000  0.0000  0.0000  0.0000]\n",
            " [ 1.0000  0.0000  0.0000  0.0000  1.0000  0.0000  0.0000  0.0000]\n",
            " [ 0.0000  1.0000  0.0000  0.0000  0.0000  0.0000  0.0000  1.0000]\n",
            " [ 0.0000  0.0000  1.0000  0.0000  0.0000  0.0000  0.0000  0.0000]\n",
            " [ 0.0000  0.0000  0.0000  1.0000  0.0000  0.0000  0.0000  1.0000]\n",
            " [ 0.0000  0.0000  0.0000  1.0000  1.0000  0.0000  0.0000  0.0000]\n",
            " [ 0.0000  0.0000  0.0000  1.0000  0.0000  1.0000  0.0000  0.0000]\n",
            " [ 1.0000  0.0000  0.0000  1.0000  0.0000  0.0000  1.0000  0.0000]]\n"
          ],
          "name": "stdout"
        }
      ]
    },
    {
      "metadata": {
        "id": "6h_9s2TXcEvD",
        "colab_type": "text"
      },
      "cell_type": "markdown",
      "source": [
        "*Step 3: Compute the transition probability matrix (at time t=0) matrix $B$ from $H$*.\n",
        "\n",
        "* Option 1: $B$ is a normalized, out-degree weighted, adjacency matrix of $G$ <br>i.e. if a $H_{ij}$ edge exists, then we divide 1 by the row total (number of outgoing links of node *i*).\n",
        "  \n",
        "* Option 2: $B$ is computed using the equation $B =D^{-1} H$ .  "
      ]
    },
    {
      "metadata": {
        "id": "REmL-KpCT6gP",
        "colab_type": "code",
        "colab": {
          "base_uri": "https://localhost:8080/",
          "height": 202
        },
        "outputId": "1e75762c-bcf1-47d8-fe10-04921112cb03"
      },
      "cell_type": "code",
      "source": [
        "# Option 1: Normalize H\n",
        "# B = H / H.sum(axis=1) # divide row element wise by the sum of the row\n",
        "# print('\\nTransition probability matrix:\\n\\n', H)\n",
        "\n",
        "# Option 2: use equation P = Dinv * H\n",
        "L, D = scipy.sparse.csgraph.laplacian(csgraph=H, return_diag=True, use_out_degree=True) # important to specify the use of out degree!! \n",
        "degree_matrix = np.diag(D) # np.diag is needed to turn the degree array returned by scipy into a matrix\n",
        "D_inv = np.linalg.inv(degree_matrix)\n",
        "B = D_inv * H\n",
        "print('\\nTransition probability matrix:\\n\\n', B)  "
      ],
      "execution_count": 337,
      "outputs": [
        {
          "output_type": "stream",
          "text": [
            "\n",
            "Transition probability matrix:\n",
            "\n",
            " [[ 0.0000  0.5000  0.5000  0.0000  0.0000  0.0000  0.0000  0.0000]\n",
            " [ 0.5000  0.0000  0.0000  0.0000  0.5000  0.0000  0.0000  0.0000]\n",
            " [ 0.0000  0.5000  0.0000  0.0000  0.0000  0.0000  0.0000  0.5000]\n",
            " [ 0.0000  0.0000  1.0000  0.0000  0.0000  0.0000  0.0000  0.0000]\n",
            " [ 0.0000  0.0000  0.0000  0.5000  0.0000  0.0000  0.0000  0.5000]\n",
            " [ 0.0000  0.0000  0.0000  0.5000  0.5000  0.0000  0.0000  0.0000]\n",
            " [ 0.0000  0.0000  0.0000  0.5000  0.0000  0.5000  0.0000  0.0000]\n",
            " [ 0.3333  0.0000  0.0000  0.3333  0.0000  0.0000  0.3333  0.0000]]\n"
          ],
          "name": "stdout"
        }
      ]
    },
    {
      "metadata": {
        "id": "IYG--kB2uZM3",
        "colab_type": "text"
      },
      "cell_type": "markdown",
      "source": [
        "*Step 4: Compute Google Matrix $C$ by incorporating randomization into $B$.*"
      ]
    },
    {
      "metadata": {
        "id": "5xi--hwFuxm3",
        "colab_type": "code",
        "colab": {
          "base_uri": "https://localhost:8080/",
          "height": 202
        },
        "outputId": "79b1141e-d3c2-4580-f2b2-7f8836425a90"
      },
      "cell_type": "code",
      "source": [
        "C = (theta * B) + ((1-theta) / N * (ones * ones.T))\n",
        "print('\\nGoogle matrix C:\\n\\n', C)"
      ],
      "execution_count": 338,
      "outputs": [
        {
          "output_type": "stream",
          "text": [
            "\n",
            "Google matrix C:\n",
            "\n",
            " [[ 0.0188  0.4437  0.4437  0.0188  0.0188  0.0188  0.0188  0.0188]\n",
            " [ 0.4437  0.0188  0.0188  0.0188  0.4437  0.0188  0.0188  0.0188]\n",
            " [ 0.0188  0.4437  0.0188  0.0188  0.0188  0.0188  0.0188  0.4437]\n",
            " [ 0.0188  0.0188  0.8688  0.0188  0.0188  0.0188  0.0188  0.0188]\n",
            " [ 0.0188  0.0188  0.0188  0.4437  0.0188  0.0188  0.0188  0.4437]\n",
            " [ 0.0188  0.0188  0.0188  0.4437  0.4437  0.0188  0.0188  0.0188]\n",
            " [ 0.0188  0.0188  0.0188  0.4437  0.0188  0.4437  0.0188  0.0188]\n",
            " [ 0.3021  0.0188  0.0188  0.3021  0.0188  0.0188  0.3021  0.0188]]\n"
          ],
          "name": "stdout"
        }
      ]
    },
    {
      "metadata": {
        "id": "e3qUdCOzUQR_",
        "colab_type": "text"
      },
      "cell_type": "markdown",
      "source": [
        "*Step 5: Compute the PageRank vector $\\vec{p}$*"
      ]
    },
    {
      "metadata": {
        "id": "2RIhZf4SUSLo",
        "colab_type": "code",
        "colab": {
          "base_uri": "https://localhost:8080/",
          "height": 336
        },
        "outputId": "c966544d-4558-4ce2-ec16-123d1dfdeebe"
      },
      "cell_type": "code",
      "source": [
        "# Initialize PageRank vector\n",
        "p = np.ones((N,), dtype=int) # row vector\n",
        "p = p / N\n",
        "p.shape = (N,1) # force it to be a column vector\n",
        "# print(pagerank)\n",
        "\n",
        "# Iterate\n",
        "for i in range(10):\n",
        "  p_new = p.T * C # pagerank_new is T\n",
        "  \n",
        "  if i in [0,5]:\n",
        "    print('\\nPageRank vector @ iteration', i+1, '\\n', p_new)\n",
        "  \n",
        "  p = pagerank_new.T # un-transpose it for next iteration\n",
        "  \n",
        "print('\\nFinal PageRank vector:\\n', p.T) # out of curiosity\n",
        "print('\\nRanked nodes as shown in source example: 3,2,4,8,1,5,7,6')\n",
        "print('\\nThe results match the result shown in the source example!\\n')\n",
        "\n",
        "# get index of highest ranked node\n",
        "index, value = max(enumerate(p.tolist()), key=operator.itemgetter(1))\n",
        "pos = index+1\n",
        "print('Node %i has highest score.\\n' %pos) # list is indexed at zero\n",
        "print(\"The intuition behind the results is that node 4 gives away all its importance scores to node 3. \"\\\n",
        "      \"\\nNode 3 does not give it back to 4, instead spreads it further to 2 and 8.\" \\\n",
        "      \"\\nThus, as per PageRank's modelling of user behaviour, node 3 is considered the most important node in the graph.\")\n",
        "\n"
      ],
      "execution_count": 339,
      "outputs": [
        {
          "output_type": "stream",
          "text": [
            "\n",
            "PageRank vector @ iteration 1 \n",
            " [[ 0.1073  0.1250  0.1781  0.2135  0.1250  0.0719  0.0542  0.1250]]\n",
            "\n",
            "PageRank vector @ iteration 6 \n",
            " [[ 0.1286  0.1590  0.2015  0.1507  0.1053  0.0447  0.0610  0.1491]]\n",
            "\n",
            "Final PageRank vector:\n",
            " [[ 0.1287  0.1590  0.2013  0.1507  0.1055  0.0446  0.0610  0.1492]]\n",
            "\n",
            "Ranked nodes as shown in source example: 3,2,4,8,1,5,7,6\n",
            "\n",
            "The results match the result shown in the source example!\n",
            "\n",
            "Node 3 has highest score.\n",
            "\n",
            "The intuition behind the results is that node 4 gives away all its importance scores to node 3. \n",
            "Node 3 does not give it back to 4, instead spreads it further to 2 and 8.\n",
            "Thus, as per PageRank's modelling of user behaviour, node 3 is considered the most important node in the graph.\n"
          ],
          "name": "stdout"
        }
      ]
    },
    {
      "metadata": {
        "id": "fLbi43UGI8Iw",
        "colab_type": "text"
      },
      "cell_type": "markdown",
      "source": [
        "**Compare with result returned fron an networkx function**"
      ]
    },
    {
      "metadata": {
        "id": "HMPYAV1Fd6P7",
        "colab_type": "code",
        "colab": {
          "base_uri": "https://localhost:8080/",
          "height": 235
        },
        "outputId": "b2951d5a-a82f-46e0-a57f-852fa2f36a0f"
      },
      "cell_type": "code",
      "source": [
        "# %time pr = nx.pagerank(G)\n",
        "pr = nx.pagerank(G)\n",
        "sorted_pr = sorted(pr.items(), key=operator.itemgetter(1),reverse=True)\n",
        "print('\\nSorted Pageranks:\\n')\n",
        "[print(i) for i in sorted_pr]\n",
        "\n",
        "pr_max = max(pr.items(), key= lambda x: x[1])\n",
        "print('\\nElement with the highest PageRank: {0}'.format(pr_max[0]))"
      ],
      "execution_count": 340,
      "outputs": [
        {
          "output_type": "stream",
          "text": [
            "\n",
            "Sorted Pageranks:\n",
            "\n",
            "(3, 0.2014952664827191)\n",
            "(2, 0.15904062780177625)\n",
            "(4, 0.15069281099475343)\n",
            "(8, 0.14915025076172478)\n",
            "(1, 0.12860168411687445)\n",
            "(5, 0.10533077655471167)\n",
            "(7, 0.061009431349396445)\n",
            "(6, 0.04467915193804382)\n",
            "\n",
            "Element with the highest PageRank: 3\n"
          ],
          "name": "stdout"
        }
      ]
    }
  ]
}