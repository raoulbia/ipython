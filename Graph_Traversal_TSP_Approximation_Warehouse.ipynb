{
  "nbformat": 4,
  "nbformat_minor": 0,
  "metadata": {
    "colab": {
      "name": "5. Graph Traversal TSP Approximation - Warehouse.ipynb",
      "version": "0.3.2",
      "provenance": [],
      "collapsed_sections": []
    },
    "kernelspec": {
      "name": "python3",
      "display_name": "Python 3"
    }
  },
  "cells": [
    {
      "cell_type": "code",
      "metadata": {
        "id": "95xu09QTQqbu",
        "colab_type": "code",
        "colab": {}
      },
      "source": [
        "from collections import defaultdict\n",
        "import itertools\n",
        "from pprint import pprint\n",
        "import networkx as nx\n",
        "import matplotlib.pyplot as plt\n",
        "import pandas as pd\n",
        "import numpy as np\n",
        "import sys, math"
      ],
      "execution_count": 0,
      "outputs": []
    },
    {
      "cell_type": "code",
      "metadata": {
        "id": "lONr4YE-nBDb",
        "colab_type": "code",
        "colab": {}
      },
      "source": [
        "# load data from Google Drive\n",
        "# from google.colab import drive\n",
        "# drive.mount('/content/drive')\n",
        "# # cd into dataset dir\n",
        "# %cd /content/drive/My Drive/Colab Notebooks/_datasets/DA/\n",
        "# !ls"
      ],
      "execution_count": 0,
      "outputs": []
    },
    {
      "cell_type": "code",
      "metadata": {
        "id": "df8h5fPFoEto",
        "colab_type": "code",
        "colab": {
          "base_uri": "https://localhost:8080/",
          "height": 139
        },
        "outputId": "fdfce972-f763-4aeb-8182-fa9ff1265b7a"
      },
      "source": [
        "A = np.load('distmat', allow_pickle=True)\n",
        "\n",
        "items = [0,5,7,3,8]\n",
        "print(items[1:])\n",
        "\n",
        "A = A[items, :][:, items]\n",
        "print(A.shape)\n",
        "A"
      ],
      "execution_count": 3,
      "outputs": [
        {
          "output_type": "stream",
          "text": [
            "[5, 7, 3, 8]\n",
            "(5, 5)\n"
          ],
          "name": "stdout"
        },
        {
          "output_type": "execute_result",
          "data": {
            "text/plain": [
              "array([[   0, 1456, 1698, 1225, 1821],\n",
              "       [1456,    0,  252,  252,  378],\n",
              "       [1698,  252,    0,  504,  126],\n",
              "       [1225,  252,  504,    0,  630],\n",
              "       [1821,  378,  126,  630,    0]])"
            ]
          },
          "metadata": {
            "tags": []
          },
          "execution_count": 3
        }
      ]
    },
    {
      "cell_type": "markdown",
      "metadata": {
        "id": "jhv5K6lv91BZ",
        "colab_type": "text"
      },
      "source": [
        "### Brute Force\n",
        "\n",
        "* 4 items to collect: 5,7,3,8\n",
        "* possible orders of collection: 24 (4!)\n",
        "* Start and Finsish of tour:  vertex 0"
      ]
    },
    {
      "cell_type": "code",
      "metadata": {
        "id": "QsKeXCg79w46",
        "colab_type": "code",
        "colab": {
          "base_uri": "https://localhost:8080/",
          "height": 503
        },
        "outputId": "af190f2b-5025-432e-84d2-bf850ef084f1"
      },
      "source": [
        "print(math.factorial(4))\n",
        "\n",
        "mapping = dict({0:0, 1:5, 2:7, 3:3, 4:8})\n",
        "# print(mapping.keys())\n",
        "# print(mapping[3])\n",
        "\n",
        "paths = list(itertools.permutations(range(1,5)))\n",
        "mapped_paths = [[mapping[item] for item in path] for path in paths]\n",
        "print(type(paths))\n",
        "print(type(mapped_paths))\n",
        "\n",
        "\n",
        "def find_best(paths, mapped_paths):\n",
        "  min_dist = 10000\n",
        "  min_dist_paths = {}\n",
        "  for path, mapped_path in zip(paths, mapped_paths):\n",
        "    dist = 0\n",
        "    dist_ls = []\n",
        "    for i in range(len(path)):\n",
        "      if i == 0:\n",
        "        dist += A[0, path[i]]\n",
        "        dist_ls.append(A[0, path[i]])\n",
        "      try:\n",
        "        dist += A[path[i], path[i+1]]\n",
        "        dist_ls.append(A[path[i], path[i+1]])\n",
        "      except:\n",
        "        dist += A[path[i], 0]\n",
        "        dist_ls.append(A[path[i], 0])\n",
        "        \n",
        "    print(mapped_path, dist, dist_ls)\n",
        "    \n",
        "    if dist < min_dist:\n",
        "      min_dist = dist\n",
        "    min_dist_paths[tuple(mapped_path)] = dist\n",
        "  return min_dist_paths, min_dist\n",
        "  \n",
        "  \n",
        "#   print(f'dist from 0 to {mapping[first]} in path {mapped_path}: {dist}')\n",
        "\n",
        "res, min_dist = find_best(paths, mapped_paths)\n",
        "[[dist, path] for path, dist in res.items() if dist == min_dist]\n",
        "\n",
        "  \n",
        "# print(f'min_dist: {min_dist}')\n",
        "# [print(p) for p in min_dist_paths]"
      ],
      "execution_count": 11,
      "outputs": [
        {
          "output_type": "stream",
          "text": [
            "24\n",
            "<class 'list'>\n",
            "<class 'list'>\n",
            "[5, 7, 3, 8] 4663 [1456, 252, 504, 630, 1821]\n",
            "[5, 7, 8, 3] 3689 [1456, 252, 126, 630, 1225]\n",
            "[5, 3, 7, 8] 4159 [1456, 252, 504, 126, 1821]\n",
            "[5, 3, 8, 7] 4162 [1456, 252, 630, 126, 1698]\n",
            "[5, 8, 7, 3] 3689 [1456, 378, 126, 504, 1225]\n",
            "[5, 8, 3, 7] 4666 [1456, 378, 630, 504, 1698]\n",
            "[7, 5, 3, 8] 4653 [1698, 252, 252, 630, 1821]\n",
            "[7, 5, 8, 3] 4183 [1698, 252, 378, 630, 1225]\n",
            "[7, 3, 5, 8] 4653 [1698, 504, 252, 378, 1821]\n",
            "[7, 3, 8, 5] 4666 [1698, 504, 630, 378, 1456]\n",
            "[7, 8, 5, 3] 3679 [1698, 126, 378, 252, 1225]\n",
            "[7, 8, 3, 5] 4162 [1698, 126, 630, 252, 1456]\n",
            "[3, 5, 7, 8] 3676 [1225, 252, 252, 126, 1821]\n",
            "[3, 5, 8, 7] 3679 [1225, 252, 378, 126, 1698]\n",
            "[3, 7, 5, 8] 4180 [1225, 504, 252, 378, 1821]\n",
            "[3, 7, 8, 5] 3689 [1225, 504, 126, 378, 1456]\n",
            "[3, 8, 5, 7] 4183 [1225, 630, 378, 252, 1698]\n",
            "[3, 8, 7, 5] 3689 [1225, 630, 126, 252, 1456]\n",
            "[8, 5, 7, 3] 4180 [1821, 378, 252, 504, 1225]\n",
            "[8, 5, 3, 7] 4653 [1821, 378, 252, 504, 1698]\n",
            "[8, 7, 5, 3] 3676 [1821, 126, 252, 252, 1225]\n",
            "[8, 7, 3, 5] 4159 [1821, 126, 504, 252, 1456]\n",
            "[8, 3, 5, 7] 4653 [1821, 630, 252, 252, 1698]\n",
            "[8, 3, 7, 5] 4663 [1821, 630, 504, 252, 1456]\n"
          ],
          "name": "stdout"
        },
        {
          "output_type": "execute_result",
          "data": {
            "text/plain": [
              "[[3676, (3, 5, 7, 8)], [3676, (8, 7, 5, 3)]]"
            ]
          },
          "metadata": {
            "tags": []
          },
          "execution_count": 11
        }
      ]
    },
    {
      "cell_type": "code",
      "metadata": {
        "id": "9EmjPe0Smshl",
        "colab_type": "code",
        "colab": {
          "base_uri": "https://localhost:8080/",
          "height": 35
        },
        "outputId": "ac9867d2-8987-4b69-d97a-c114d2549946"
      },
      "source": [
        "# check dist for DA solution\n",
        "print(f'dist for DA solution: {res[8, 3, 5, 7]}')"
      ],
      "execution_count": 26,
      "outputs": [
        {
          "output_type": "stream",
          "text": [
            "dist for DA solution: 4653\n"
          ],
          "name": "stdout"
        }
      ]
    },
    {
      "cell_type": "code",
      "metadata": {
        "id": "hzjFzsTh3oWo",
        "colab_type": "code",
        "colab": {
          "base_uri": "https://localhost:8080/",
          "height": 139
        },
        "outputId": "ef06693e-06af-433b-914d-6fc63e5d0f09"
      },
      "source": [
        "G = nx.convert_matrix.from_numpy_matrix(A)\n",
        "print(len(G.nodes()))\n",
        "print(len(G.edges()))\n",
        "print(nx.is_weighted(G))\n",
        "print(G.get_edge_data(0,0))\n",
        "print(G.get_edge_data(0,1))\n",
        "print(G.get_edge_data(1,5))\n",
        "nx.is_connected(G)\n",
        "G.edges()"
      ],
      "execution_count": 13,
      "outputs": [
        {
          "output_type": "stream",
          "text": [
            "5\n",
            "10\n",
            "True\n",
            "None\n",
            "{'weight': 1456}\n",
            "None\n"
          ],
          "name": "stdout"
        },
        {
          "output_type": "execute_result",
          "data": {
            "text/plain": [
              "EdgeView([(0, 1), (0, 2), (0, 3), (0, 4), (1, 2), (1, 3), (1, 4), (2, 3), (2, 4), (3, 4)])"
            ]
          },
          "metadata": {
            "tags": []
          },
          "execution_count": 13
        }
      ]
    },
    {
      "cell_type": "code",
      "metadata": {
        "id": "vHdRGsuhoaoO",
        "colab_type": "code",
        "outputId": "5d4b8611-c432-40af-ea2e-5b0470f1387c",
        "colab": {
          "base_uri": "https://localhost:8080/",
          "height": 249
        }
      },
      "source": [
        "plt.figure() #figsize=(15,10)\n",
        "pos = nx.spring_layout(G)\n",
        "labels = nx.get_edge_attributes(G, 'weight')\n",
        "nx.draw_networkx_edge_labels(G, pos, edge_labels=labels)\n",
        "nx.draw(G, pos, with_labels = True, node_color='lightgrey') #, node_size=5\n",
        "plt.show()"
      ],
      "execution_count": 14,
      "outputs": [
        {
          "output_type": "display_data",
          "data": {
            "image/png": "[encoded data removed]",
            "text/plain": [
              "<Figure size 432x288 with 1 Axes>"
            ]
          },
          "metadata": {
            "tags": []
          }
        }
      ]
    },
    {
      "cell_type": "markdown",
      "metadata": {
        "id": "Qm9MkxRUZU6h",
        "colab_type": "text"
      },
      "source": [
        "### Approximation Algorithm\n",
        "\n",
        "```\n",
        "MST <- minimum spanning tree of G\n",
        "D <- MST with each edges doubled\n",
        "find an eulerian cycle C in D\n",
        "return a cycle that visits vertices in the order of their appearance in C\n",
        "```"
      ]
    },
    {
      "cell_type": "code",
      "metadata": {
        "id": "nivm7U1dXr1D",
        "colab_type": "code",
        "outputId": "cbee64f6-b1c8-4da7-fb98-ade32b0c3a1c",
        "colab": {
          "base_uri": "https://localhost:8080/",
          "height": 255
        }
      },
      "source": [
        "# MST <- minimum spanning tree of G\n",
        "\n",
        "MST = nx.minimum_spanning_tree(G, weight='weight')\n",
        "# print(list(MST))\n",
        "\n",
        "plt.figure() #figsize=(15,10)\n",
        "pos = nx.circular_layout(G) \n",
        "labels = nx.get_edge_attributes(MST, 'weight')\n",
        "nx.draw_networkx_edge_labels(G, pos, edge_labels=labels)\n",
        "nx.draw_networkx(MST, pos, with_labels=True, node_color='lightgrey') #figsize=(15,10)\n",
        "plt.show()"
      ],
      "execution_count": 15,
      "outputs": [
        {
          "output_type": "display_data",
          "data": {
            "image/png": "[encoded data removed]",
            "text/plain": [
              "<Figure size 432x288 with 1 Axes>"
            ]
          },
          "metadata": {
            "tags": []
          }
        }
      ]
    },
    {
      "cell_type": "code",
      "metadata": {
        "id": "G8QU_Z4Jd_Ks",
        "colab_type": "code",
        "outputId": "e20070c0-801c-4a34-94cd-302a4455871d",
        "colab": {
          "base_uri": "https://localhost:8080/",
          "height": 273
        }
      },
      "source": [
        "# D <- MST with each edges doubled\n",
        "\n",
        "mst_edges = MST.edges()\n",
        "D = nx.MultiDiGraph()\n",
        "D.add_edges_from([(e[0], e[1]) for e in mst_edges])\n",
        "D.add_edges_from([(e[1], e[0]) for e in mst_edges])\n",
        "print(D.edges())\n",
        "\n",
        "plt.figure() # figsize=(15,10)\n",
        "pos = nx.circular_layout(G) \n",
        "nx.draw_networkx(D, pos, node_color='lightgrey')\n",
        "plt.show()"
      ],
      "execution_count": 16,
      "outputs": [
        {
          "output_type": "stream",
          "text": [
            "[(0, 3), (3, 0), (3, 1), (1, 2), (1, 3), (2, 4), (2, 1), (4, 2)]\n"
          ],
          "name": "stdout"
        },
        {
          "output_type": "display_data",
          "data": {
            "image/png": "[encoded data removed]",
            "text/plain": [
              "<Figure size 432x288 with 1 Axes>"
            ]
          },
          "metadata": {
            "tags": []
          }
        }
      ]
    },
    {
      "cell_type": "code",
      "metadata": {
        "id": "-cBsQJiJg4-B",
        "colab_type": "code",
        "outputId": "e4f0f7a5-6027-4296-d247-184a57e7687d",
        "colab": {
          "base_uri": "https://localhost:8080/",
          "height": 273
        }
      },
      "source": [
        "# find an eulerian cycle C in D\n",
        "\n",
        "C = nx.eulerian_circuit(D)\n",
        "C_edges = list(C)\n",
        "# print(C_edges)\n",
        "\n",
        "# return a cycle that visits vertices in the order of their appearance in C\n",
        "visited = defaultdict(int)\n",
        "[visited[i[0]] for i in C_edges]\n",
        "# print(visited)\n",
        "\n",
        "path = []\n",
        "for edge in C_edges:\n",
        "  u = edge[0]\n",
        "  v = edge[1]\n",
        "  if visited[u]==0:\n",
        "    path.append(u)\n",
        "    visited[u]=1\n",
        "  if visited[v]==0:\n",
        "    path.append(v)\n",
        "    visited[v]=1\n",
        "len(path)\n",
        "res = list(map(mapping.get, path))\n",
        "print(f'optimal path approx.: {res}')\n",
        "\n",
        "\n",
        "TSP = nx.Graph()\n",
        "TSP.add_path(path)\n",
        "nx.relabel_nodes(TSP, mapping, copy=False)\n",
        "\n",
        "plt.figure()\n",
        "pos = nx.circular_layout(TSP) \n",
        "labels = nx.get_edge_attributes(TSP,'weight')\n",
        "nx.draw_networkx_edge_labels(TSP, pos,edge_labels=labels)\n",
        "nx.draw_networkx(TSP, pos, with_labels=True, node_color='lightgrey') #, node_size=5\n",
        "plt.show()"
      ],
      "execution_count": 28,
      "outputs": [
        {
          "output_type": "stream",
          "text": [
            "optimal path approx.: [0, 3, 5, 7, 8]\n"
          ],
          "name": "stdout"
        },
        {
          "output_type": "display_data",
          "data": {
            "image/png": "[encoded data removed]",
            "text/plain": [
              "<Figure size 432x288 with 1 Axes>"
            ]
          },
          "metadata": {
            "tags": []
          }
        }
      ]
    }
  ]
}