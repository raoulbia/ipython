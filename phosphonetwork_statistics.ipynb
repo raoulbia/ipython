{
  "nbformat": 4,
  "nbformat_minor": 0,
  "metadata": {
    "colab": {
      "name": "phosphonetwork_statistics.ipynb",
      "version": "0.3.2",
      "provenance": [],
      "collapsed_sections": []
    },
    "language_info": {
      "codemirror_mode": {
        "name": "ipython",
        "version": 3
      },
      "file_extension": ".py",
      "mimetype": "text/x-python",
      "name": "python",
      "nbconvert_exporter": "python",
      "pygments_lexer": "ipython3",
      "version": "3.5.2"
    },
    "kernelspec": {
      "display_name": "Python 3",
      "language": "python",
      "name": "python3"
    }
  },
  "cells": [
    {
      "cell_type": "markdown",
      "metadata": {
        "id": "ztIr-O0lz8xw",
        "colab_type": "text"
      },
      "source": [
        "## Phosphonetwork graph\n",
        "\n",
        "This notebook provides an analysis of the Phosphonetwork triples graph."
      ]
    },
    {
      "cell_type": "code",
      "metadata": {
        "id": "xesHquF8z8xx",
        "colab_type": "code",
        "outputId": "6247cfce-3466-4e1e-935e-83d3ba581209",
        "colab": {
          "base_uri": "https://localhost:8080/",
          "height": 34
        }
      },
      "source": [
        "# IMPORTANT\n",
        "# make sure you have networkx 2.2 installed\n",
        "# if not install and restart kernel\n",
        "# !pip install networkx==2.2\n",
        "\n",
        "import networkx as nx\n",
        "print(nx.__version__)"
      ],
      "execution_count": 0,
      "outputs": [
        {
          "output_type": "stream",
          "text": [
            "2.2\n"
          ],
          "name": "stdout"
        }
      ]
    },
    {
      "cell_type": "code",
      "metadata": {
        "colab_type": "code",
        "id": "gduVV0sBqnLl",
        "colab": {}
      },
      "source": [
        "import os\n",
        "import pandas as pd\n",
        "import numpy as np\n",
        "import operator\n",
        "import scipy\n",
        "import matplotlib.pyplot as plt\n",
        "from random import random"
      ],
      "execution_count": 0,
      "outputs": []
    },
    {
      "cell_type": "code",
      "metadata": {
        "id": "lzBvq0k10ZfW",
        "colab_type": "code",
        "outputId": "29c2d808-2e5b-4b10-fe2c-ee7275b5441e",
        "colab": {
          "base_uri": "https://localhost:8080/",
          "height": 134
        }
      },
      "source": [
        "from google.colab import drive\n",
        "drive.mount('/content/drive')\n",
        "\n",
        "%cd /content/drive/My Drive/Colab Notebooks/_datasets/tomoe/kinase_exps/\n",
        "!ls"
      ],
      "execution_count": 0,
      "outputs": [
        {
          "output_type": "stream",
          "text": [
            "Drive already mounted at /content/drive; to attempt to forcibly remount, call drive.mount(\"/content/drive\", force_remount=True).\n",
            "/content/drive/My Drive/Colab Notebooks/_datasets/tomoe/kinase_exps\n",
            "all_proteins.tsv       phosphonetwork_1.0.tsv\t test_data_uncleaned.tsv\n",
            "biograph-ppi.tsv       pkinfam.tsv\t\t train_data_cleaned.tsv\n",
            "kinase_ents.txt        pure_substrates.txt\t uniprot-human-kg.tsv\n",
            "kinases.txt\t       RESULTS-FINAL.csv\n",
            "kinase_substrates.txt  RESULTS-FINAL-SAMPLE.csv\n"
          ],
          "name": "stdout"
        }
      ]
    },
    {
      "cell_type": "markdown",
      "metadata": {
        "id": "XI05UrbK30Cg",
        "colab_type": "text"
      },
      "source": [
        "## Phosphonetwork"
      ]
    },
    {
      "cell_type": "code",
      "metadata": {
        "colab_type": "code",
        "id": "aVIE8qkkM6Ss",
        "outputId": "026335c3-9542-488a-cfff-fca5520203ca",
        "colab": {
          "base_uri": "https://localhost:8080/",
          "height": 218
        }
      },
      "source": [
        "# Dataframes\n",
        "\n",
        "# Phosphonetwork DF\n",
        "df = pd.read_csv('phosphonetwork_1.0.tsv', delimiter='\\t')\n",
        "print(df.head())\n",
        "\n",
        "# RESULTS DF\n",
        "df_results = pd.read_csv('RESULTS-FINAL-SAMPLE.csv', delimiter='\\t')\n",
        "df_results = df_results[['ProteinKinase_ID', 'ProteinSubstrate_ID', 'Score']]\n",
        "# df_results = df_results.head(10)\n",
        "print(df_results.head())"
      ],
      "execution_count": 0,
      "outputs": [
        {
          "output_type": "stream",
          "text": [
            "   kinase  site substrate\n",
            "0  P15531  H118    P15531\n",
            "1  P22392  H118    P22392\n",
            "2  P22392  H358    O15554\n",
            "3  O75582    S1    P0C0S8\n",
            "4  O14757   S10    O95707\n",
            "  ProteinKinase_ID ProteinSubstrate_ID     Score\n",
            "0           P22607              P46108  0.899359\n",
            "1           P22607              P46108  0.899359\n",
            "2           P22607              P46108  0.899359\n",
            "3           P22607              P46108  0.899359\n",
            "4           P22607              P46108  0.899359\n"
          ],
          "name": "stdout"
        }
      ]
    },
    {
      "cell_type": "markdown",
      "metadata": {
        "id": "rt-5TiPHz8yD",
        "colab_type": "text"
      },
      "source": [
        "### Original directed Phosphonetwork multigraph"
      ]
    },
    {
      "cell_type": "code",
      "metadata": {
        "colab_type": "code",
        "id": "GFsFK-YDqnh1",
        "outputId": "1c1fe331-59a1-42c0-9cf5-6e52d59d459d",
        "colab": {
          "base_uri": "https://localhost:8080/",
          "height": 151
        }
      },
      "source": [
        "# create a MultiDiGraph and get some intital stats\n",
        "\n",
        "G = nx.from_pandas_edgelist(df, source='kinase', target='substrate', edge_attr='site', \n",
        "                            create_using=nx.MultiDiGraph())\n",
        "\n",
        "print(nx.info(G))\n",
        "print('G.is_directed: {}'.format(G.is_directed()))\n",
        "print('G.is_multigraph: {}'.format(G.is_multigraph()))\n",
        "\n",
        "#TODO check for self loops?"
      ],
      "execution_count": 0,
      "outputs": [
        {
          "output_type": "stream",
          "text": [
            "Name: \n",
            "Type: MultiDiGraph\n",
            "Number of nodes: 2419\n",
            "Number of edges: 12153\n",
            "Average in degree:   5.0240\n",
            "Average out degree:   5.0240\n",
            "G.is_directed: True\n",
            "G.is_multigraph: True\n"
          ],
          "name": "stdout"
        }
      ]
    },
    {
      "cell_type": "code",
      "metadata": {
        "colab_type": "code",
        "id": "7zL9elzGTubm",
        "outputId": "d0b6b3ac-312b-4587-91fc-ee8abe1113bc",
        "colab": {
          "base_uri": "https://localhost:8080/",
          "height": 84
        }
      },
      "source": [
        "# Connectivity of original graph\n",
        "\n",
        "# check if strongly and/or weakly connected\n",
        "print('is_strongly_connected(G): {}'.format(nx.is_strongly_connected(G)))\n",
        "print('is_weakly_connected(G): {}'.format(nx.is_weakly_connected(G)))\n",
        "\n",
        "# get the size of the largest strongly connected component\n",
        "largest_scc = max(nx.strongly_connected_components(G), key=len)\n",
        "\n",
        "size_largest_scc = len(largest_scc)\n",
        "print('size of the largest strongly connected component: {} nodes'.format(size_largest_scc))\n",
        "print('size of original graph: {} nodes'.format(G.number_of_nodes()))"
      ],
      "execution_count": 0,
      "outputs": [
        {
          "output_type": "stream",
          "text": [
            "is_strongly_connected(G): False\n",
            "is_weakly_connected(G): False\n",
            "size of the largest strongly connected component: 430 nodes\n",
            "size of original graph: 2419 nodes\n"
          ],
          "name": "stdout"
        }
      ]
    },
    {
      "cell_type": "markdown",
      "metadata": {
        "id": "upqmXk7yz8yO",
        "colab_type": "text"
      },
      "source": [
        "#### Convert to undirected graph"
      ]
    },
    {
      "cell_type": "code",
      "metadata": {
        "colab_type": "code",
        "id": "whoYGLHesiSA",
        "outputId": "21288b31-6da3-4282-c109-760e3f79895c",
        "colab": {
          "base_uri": "https://localhost:8080/",
          "height": 151
        }
      },
      "source": [
        "# convert to undirected graph\n",
        "\n",
        "G_und = nx.Graph(G)\n",
        "largest_cc = max(nx.connected_components(G_und), key=len)\n",
        "size_largest_cc = len(largest_cc)\n",
        "print(nx.info(G_und))\n",
        "print('is_connected(G_und): {}'.format(nx.is_connected(G_und)))\n",
        "print('number of connected components G_und: {} nodes'.format(nx.number_connected_components(G_und)))\n",
        "print('size of the largest connected component G_und: {} nodes'.format(size_largest_cc))"
      ],
      "execution_count": 0,
      "outputs": [
        {
          "output_type": "stream",
          "text": [
            "Name: \n",
            "Type: Graph\n",
            "Number of nodes: 2419\n",
            "Number of edges: 5774\n",
            "Average degree:   4.7739\n",
            "is_connected(G_und): False\n",
            "number of connected components G_und: 28 nodes\n",
            "size of the largest connected component G_und: 2384 nodes\n"
          ],
          "name": "stdout"
        }
      ]
    },
    {
      "cell_type": "code",
      "metadata": {
        "id": "ZEQvXlNiz8yU",
        "colab_type": "code",
        "outputId": "8a51c9ef-da7b-4901-ca6c-00be5dd9c66d",
        "colab": {
          "base_uri": "https://localhost:8080/",
          "height": 302
        }
      },
      "source": [
        "# draw G_und connected component subgraphs\n",
        "\n",
        "ccs = (G.subgraph(c) for c in nx.connected_component_subgraphs(G_und)) # there are 34 connected components\n",
        "pos = nx.spring_layout(G_und)\n",
        "for cc in ccs:\n",
        "    color = [(random(), random(), random()) for _i in range(1)]\n",
        "    res = cc.nodes()\n",
        "    k = G_und.subgraph(res)\n",
        "    nx.draw_networkx(k, pos=pos , with_labels=False)#, node_color=color)\n",
        "    nx.draw_networkx_nodes(k,pos=pos,\n",
        "                       nodelist=res,\n",
        "                       node_color=color,\n",
        "                       node_size=5)\n",
        "    \n",
        "plt.rcParams['figure.figsize'] = [100, 100]\n",
        "plt.show()"
      ],
      "execution_count": 0,
      "outputs": [
        {
          "output_type": "stream",
          "text": [
            "/usr/local/lib/python3.6/dist-packages/networkx/drawing/nx_pylab.py:611: MatplotlibDeprecationWarning: isinstance(..., numbers.Number)\n",
            "  if cb.is_numlike(alpha):\n"
          ],
          "name": "stderr"
        },
        {
          "output_type": "display_data",
          "data": {
            "image/png": "[encoded data removed]",
            "text/plain": [
              "<Figure size 432x288 with 1 Axes>"
            ]
          },
          "metadata": {
            "tags": []
          }
        }
      ]
    },
    {
      "cell_type": "code",
      "metadata": {
        "id": "lLq0eHzez8ya",
        "colab_type": "code",
        "outputId": "5c16bb1e-7e9b-4bd5-ff7a-70da1c205624",
        "colab": {
          "base_uri": "https://localhost:8080/",
          "height": 34
        }
      },
      "source": [
        "# Clustering and in-degree distribution of undirected subgraph\n",
        "\n",
        "# Clustering\n",
        "# global clustering: Avg local clustering coefficients\n",
        "print('nx.average_clustering(G_und): {}'.format(nx.average_clustering(G_und)))\n",
        "# global clustering: Transitivity\n",
        "# print('nx.transitivity(G_und): {}'.format(nx.transitivity(G_und)))"
      ],
      "execution_count": 0,
      "outputs": [
        {
          "output_type": "stream",
          "text": [
            "nx.average_clustering(G_und): 0.07741352218667596\n"
          ],
          "name": "stdout"
        }
      ]
    },
    {
      "cell_type": "code",
      "metadata": {
        "id": "olqIW-Dfz8ye",
        "colab_type": "code",
        "colab": {}
      },
      "source": [
        "# Average shortest path length\n",
        "# cannot compute, grpah must be connected\n",
        "\n",
        "# print('nx.average_shortest_path_length(G_und): {}'.format(nx.average_shortest_path_length(G_und)))"
      ],
      "execution_count": 0,
      "outputs": []
    },
    {
      "cell_type": "code",
      "metadata": {
        "id": "dHGYQfQCz8yg",
        "colab_type": "code",
        "colab": {}
      },
      "source": [
        "# Degree Distribution\n",
        "degrees = G_und.degree()\n",
        "degree_values = sorted(set(d for n, d in degrees))\n",
        "\n",
        "# get probability distribution as p(k) tuples\n",
        "\n",
        "# dd = [(i, list(d for n, d in in_degrees).count(i)/float(nx.number_of_nodes(G)))\n",
        "#              for i in degree_values]\n",
        "# dd.sort(key=operator.itemgetter(0), reverse=True)\n",
        "# print(dd)"
      ],
      "execution_count": 0,
      "outputs": []
    },
    {
      "cell_type": "code",
      "metadata": {
        "id": "o0iWrd1xz8yj",
        "colab_type": "code",
        "outputId": "8d183ebe-3252-4ac7-abab-624dfc223b8d",
        "colab": {
          "base_uri": "https://localhost:8080/",
          "height": 337
        }
      },
      "source": [
        "# plot degree distribution\n",
        "\n",
        "# setup for plotting two graphs side by side\n",
        "fig = plt.figure(figsize=(15,5))\n",
        "ax1 = fig.add_subplot(1, 2, 1)\n",
        "ax2 = fig.add_subplot(1, 2, 2)\n",
        "\n",
        "# GRAPH 1\n",
        "histogram = [list(d for n, d in degrees).count(i)/float(nx.number_of_nodes(G_und))\n",
        "             for i in degree_values]\n",
        "ax1.bar(degree_values, histogram)\n",
        "ax1.set_xlabel('Degree')\n",
        "ax1.set_ylabel('Fraction of Nodes')\n",
        "# plt.show()\n",
        "\n",
        "\n",
        "# GRAPH 2 log-log degree distribution\n",
        "\"\"\"\n",
        "x axis -> the log of the degrees encountered in the network; \n",
        "y axis -> the log of the frequency of those degrees\n",
        "\"\"\"\n",
        "degree_freq = np.array(nx.degree_histogram(G_und))\n",
        "\"\"\"A list of frequencies of degrees. The degree values are the index in the list.\"\"\"\n",
        "\n",
        "# subset of degree vlaues with non-zero freq.\n",
        "degree_vals = np.where(degree_freq != 0)[0]\n",
        "degree_vals_log = np.log(degree_vals)\n",
        "\n",
        "# subset of non-zero degree freqs.\n",
        "degree_freq = degree_freq[degree_vals]\n",
        "degree_freq_log = np.log(degree_freq)\n",
        "\n",
        "ax2.scatter(x = degree_vals_log,\n",
        "            y = degree_freq_log, \n",
        "            c='b', marker='x')\n",
        "ax2.set_xlabel('log of the degrees encountered in the network')\n",
        "ax2.set_ylabel('log of frequency')\n",
        "\n",
        "plt.show()"
      ],
      "execution_count": 0,
      "outputs": [
        {
          "output_type": "display_data",
          "data": {
            "image/png": "[encoded data removed]",
            "text/plain": [
              "<Figure size 1080x360 with 2 Axes>"
            ]
          },
          "metadata": {
            "tags": []
          }
        }
      ]
    },
    {
      "cell_type": "code",
      "metadata": {
        "colab_type": "code",
        "id": "3Pn-rKXDKue9",
        "colab": {}
      },
      "source": [
        "# cannot compuite below metrics, graph must be connected\n",
        "\n",
        "# Diameter\n",
        "# maximum distance between any pair of nodes\n",
        "# print('maximum distance between any pair of nodes in G_und: {}'.format(nx.diameter(G_und)))\n",
        "\n",
        "# Radius\n",
        "# the radius is the minimum eccentricity\n",
        "# i.e. the smallest of the largest distances between any pair of nodes\n",
        "# # maximum distance between any pair of nodes\n",
        "# print('radius of G_und (i.e. minimum eccentricity): {}'.format(nx.radius(G_und)))\n",
        "\n",
        "# Periphery\n",
        "# the periphery of a graph is the of set of nodes that have eccentricity equal to diameter\n",
        "# i.e. the set of nodes that have a value of largest distance between them and all other nodes \n",
        "# print('periphery nodes of G_sc: {}'.format(nx.periphery(G_sc)))\n",
        "\n",
        "# center nodes\n",
        "# print('center nodes of G_sc: {}'.format(nx.center(G_sc)))"
      ],
      "execution_count": 0,
      "outputs": []
    },
    {
      "cell_type": "markdown",
      "metadata": {
        "id": "yCXb4XSf3kON",
        "colab_type": "text"
      },
      "source": [
        "## Results Sample Data"
      ]
    },
    {
      "cell_type": "code",
      "metadata": {
        "colab_type": "code",
        "id": "3K7rXvzIUNLn",
        "outputId": "3f0d7a27-2ba8-469e-c165-169a4341d5dc",
        "colab": {
          "base_uri": "https://localhost:8080/",
          "height": 168
        }
      },
      "source": [
        "# a closer look at simple paths in results-sample\n",
        "\n",
        "# simple paths in G\n",
        "print('\\nexample simple paths in G')\n",
        "i = 0\n",
        "for row in df_results.itertuples():\n",
        "  if i <5:\n",
        "      #print('...', row)\n",
        "      kinase_id = row.ProteinKinase_ID\n",
        "      substrate_id = row.ProteinSubstrate_ID\n",
        "      #residue_id = row.Site\n",
        "      model_score = row.Score\n",
        "\n",
        "      try:\n",
        "        all_simple_paths = list(nx.all_simple_paths(G, kinase_id, substrate_id, cutoff=3))\n",
        "        i += 1\n",
        "      except:\n",
        "        continue\n",
        "\n",
        "      if len(all_simple_paths)>0:\n",
        "        \"\"\"\n",
        "        remove empty lists i.e. no simple paths exist \n",
        "        TODO do such cases need attention? > probably happens becuase G is not connected\n",
        "        \"\"\"\n",
        "        path_lengths = [len(path) for path in all_simple_paths]\n",
        "        print('{} {} number of simple paths in G: {} ; Average simple path length: {}'.format(\n",
        "              kinase_id, \n",
        "              substrate_id, \n",
        "              len(all_simple_paths), \n",
        "              scipy.mean(path_lengths)))\n",
        "\n",
        "      \n",
        "# simple paths in G_und\n",
        "print('\\nexample simple paths in G_und')\n",
        "i = 0\n",
        "for row in df_results.itertuples():\n",
        "  if i < 5:\n",
        "      #print('...', row)\n",
        "      kinase_id = row.ProteinKinase_ID\n",
        "      substrate_id = row.ProteinSubstrate_ID\n",
        "      #residue_id = row.Site\n",
        "      model_score = row.Score\n",
        "\n",
        "      try:\n",
        "        all_simple_paths = list(nx.all_simple_paths(G_und, kinase_id, substrate_id, cutoff=3))\n",
        "        i += 1\n",
        "      except:\n",
        "        continue\n",
        "\n",
        "      path_lengths = [len(path) for path in all_simple_paths]\n",
        "      print('{} {} number of simple paths in G_und: {} ; Average simple path length: {}'.format(\n",
        "            kinase_id, \n",
        "            substrate_id, \n",
        "            len(all_simple_paths), \n",
        "            scipy.mean(path_lengths)))\n",
        "  "
      ],
      "execution_count": 0,
      "outputs": [
        {
          "output_type": "stream",
          "text": [
            "\n",
            "example simple paths in G\n",
            "\n",
            "example simple paths in G_und\n",
            "P22607 P46108 number of simple paths in G_und: 2 ; Average simple path length: 4.0\n",
            "P22607 P46108 number of simple paths in G_und: 2 ; Average simple path length: 4.0\n",
            "P22607 P46108 number of simple paths in G_und: 2 ; Average simple path length: 4.0\n",
            "P22607 P46108 number of simple paths in G_und: 2 ; Average simple path length: 4.0\n",
            "P22607 P46108 number of simple paths in G_und: 2 ; Average simple path length: 4.0\n"
          ],
          "name": "stdout"
        }
      ]
    },
    {
      "cell_type": "code",
      "metadata": {
        "colab_type": "code",
        "id": "Yc24ra3Drfgu",
        "outputId": "1d7c02cf-0a7d-4fad-d1f0-dac8553daa4f",
        "colab": {
          "base_uri": "https://localhost:8080/",
          "height": 101
        }
      },
      "source": [
        "# Top 5 by Betweenness Centrality (approximated)\n",
        "\"\"\"\n",
        "Assumption: important nodes connect other nodes.\n",
        "Between Centrality asks: \"What are the nodes that show up in the various shortest paths between u and v?\"\n",
        "\"\"\"\n",
        "btwnCent_approx = nx.betweenness_centrality(G_und,\n",
        "                                            normalized=True, \n",
        "                                            endpoints=False,\n",
        "                                            k=100) # approximation param\n",
        "sorted(btwnCent_approx.items(), key=operator.itemgetter(1), reverse=True)[0:5]"
      ],
      "execution_count": 0,
      "outputs": [
        {
          "output_type": "execute_result",
          "data": {
            "text/plain": [
              "[('P17612', 0.15521458227222554),\n",
              " ('P68400', 0.13644721299529014),\n",
              " ('P06493', 0.12967440391486254),\n",
              " ('P24941', 0.11110690423892072),\n",
              " ('P12931', 0.10936996342295575)]"
            ]
          },
          "metadata": {
            "tags": []
          },
          "execution_count": 18
        }
      ]
    },
    {
      "cell_type": "code",
      "metadata": {
        "colab_type": "code",
        "id": "MdhHCo8m4G46",
        "outputId": "cb2c5278-83bf-4cc4-db49-c8175052d749",
        "colab": {
          "base_uri": "https://localhost:8080/",
          "height": 168
        }
      },
      "source": [
        "# pagerank\n",
        "\"\"\"not implemented for multigraph type\"\"\"\n",
        "\n",
        "print('G_und is_directed: {}'.format(G_und.is_directed()))\n",
        "print('G_und is_multigraph: {}'.format(G_und.is_multigraph()))\n",
        "\n",
        "pr = nx.pagerank(G_und)\n",
        "print('top 5 pagerank nodes:\\n')\n",
        "sorted(pr.items(), key=operator.itemgetter(1), reverse=True)[0:5]"
      ],
      "execution_count": 0,
      "outputs": [
        {
          "output_type": "stream",
          "text": [
            "G_und is_directed: False\n",
            "G_und is_multigraph: False\n",
            "top 5 pagerank nodes:\n",
            "\n"
          ],
          "name": "stdout"
        },
        {
          "output_type": "execute_result",
          "data": {
            "text/plain": [
              "[('P17612', 0.027393348712584902),\n",
              " ('P24941', 0.025554685173661176),\n",
              " ('P68400', 0.022565773980252335),\n",
              " ('P06493', 0.02112549373421173),\n",
              " ('P12931', 0.01810651137907948)]"
            ]
          },
          "metadata": {
            "tags": []
          },
          "execution_count": 19
        }
      ]
    },
    {
      "cell_type": "code",
      "metadata": {
        "colab_type": "code",
        "id": "_XQb65TR9C8I",
        "outputId": "de6e4726-146d-400a-eb71-01f16e58ed6d",
        "colab": {
          "base_uri": "https://localhost:8080/",
          "height": 101
        }
      },
      "source": [
        "# Hyperlink-Induced Topic Search (HITS) algorithm\n",
        "\n",
        "h,a=nx.hits(G_und, max_iter=300)\n",
        "print('authorities:\\n', [i[0] for i in sorted(a.items(), key=operator.itemgetter(1), reverse=True)[0:5]])\n",
        "print('\\nhubs:\\n', [i[0] for i in sorted(h.items(), key=operator.itemgetter(1), reverse=True)[0:5]])"
      ],
      "execution_count": 0,
      "outputs": [
        {
          "output_type": "stream",
          "text": [
            "authorities:\n",
            " ['P17612', 'P28482', 'P06493', 'P31749', 'P27361']\n",
            "\n",
            "hubs:\n",
            " ['P17612', 'P28482', 'P06493', 'P31749', 'P27361']\n"
          ],
          "name": "stdout"
        }
      ]
    }
  ]
}