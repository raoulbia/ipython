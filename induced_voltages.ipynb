{
  "nbformat": 4,
  "nbformat_minor": 0,
  "metadata": {
    "colab": {
      "name": "induced-voltages.ipynb",
      "version": "0.3.2",
      "provenance": [],
      "collapsed_sections": []
    },
    "kernelspec": {
      "name": "python3",
      "display_name": "Python 3"
    }
  },
  "cells": [
    {
      "cell_type": "markdown",
      "metadata": {
        "id": "view-in-github",
        "colab_type": "text"
      },
      "source": [
        "[View in Colaboratory](https://colab.research.google.com/github/raoulbia/ipython/blob/master/induced_voltages.ipynb)"
      ]
    },
    {
      "metadata": {
        "id": "8ER5HoufPeF2",
        "colab_type": "text"
      },
      "cell_type": "markdown",
      "source": [
        "# **Graphs: Vertex Voltages**"
      ]
    },
    {
      "metadata": {
        "id": "kCWGstSOQepJ",
        "colab_type": "text"
      },
      "cell_type": "markdown",
      "source": [
        "One can model graphs as resistor networks where edges are resistors connecting vertices and voltages are applied at the vertices. \n",
        "\n",
        "This model allows to infer voltage values (and thus also current flow) at all vertices from known values at a few vertices. Specifically, subject to fixing s=1V and t=0V, the voltages at every node will minimize:\n",
        "\n",
        "<br>\n",
        "<p align=\"center\">$\\sum _{(a,b) \\in E)} = (v(a) - v(b))^2 $   &nbsp;&nbsp;&nbsp;(Equation 1)\n",
        "<br>"
      ]
    },
    {
      "metadata": {
        "id": "EaIenyymMBGy",
        "colab_type": "code",
        "colab": {}
      },
      "cell_type": "code",
      "source": [
        "import collections\n",
        "import scipy\n",
        "import numpy as np\n",
        "import networkx as nx\n",
        "import matplotlib.pyplot as plt\n",
        "\n",
        "from scipy.sparse import csr_matrix # csr = Compressed Sparse Row matrix\n",
        "from scipy.sparse.csgraph import minimum_spanning_tree\n",
        "import scipy.optimize as opt\n",
        "\n",
        "np.set_printoptions(formatter={'float': lambda x: \"{0:0.3f}\".format(x)})"
      ],
      "execution_count": 0,
      "outputs": []
    },
    {
      "metadata": {
        "id": "XtXVMo1mOTCm",
        "colab_type": "text"
      },
      "cell_type": "markdown",
      "source": [
        "**Construct directed graph** as per Figure 3 in *Faloutsos et al., 2006*"
      ]
    },
    {
      "metadata": {
        "id": "2-N2x032MKm4",
        "colab_type": "code",
        "colab": {}
      },
      "cell_type": "code",
      "source": [
        "G = nx.DiGraph()\n",
        "G.add_edge('s','a')\n",
        "G.add_edge('s','b')\n",
        "G.add_edge('a','c')\n",
        "G.add_edge('a','b')\n",
        "G.add_edge('b','c')\n",
        "G.add_edge('b','t')\n",
        "G.add_edge('c','t')"
      ],
      "execution_count": 0,
      "outputs": []
    },
    {
      "metadata": {
        "id": "R-ThOhMpOeU_",
        "colab_type": "text"
      },
      "cell_type": "markdown",
      "source": [
        "**Show graph** (as seen in Figure 3 of the paper)"
      ]
    },
    {
      "metadata": {
        "id": "r-rh7O_JMg0A",
        "colab_type": "code",
        "colab": {
          "base_uri": "https://localhost:8080/",
          "height": 445
        },
        "outputId": "eb26b997-c47e-4b55-d63c-1538df2782f8"
      },
      "cell_type": "code",
      "source": [
        "fixed_positions = {'s':(0,0), 'a':(0,2), 'b':(1,1), 'c':(2,2), 't':(2,0)}\n",
        "fixed_nodes = fixed_positions.keys()\n",
        "pos = nx.spring_layout(G, pos=fixed_positions, fixed=fixed_nodes)\n",
        "nx.draw(G, pos)\n",
        "plt.show()"
      ],
      "execution_count": 4,
      "outputs": [
        {
          "output_type": "display_data",
          "data": {
            "image/png": "[encoded data removed]",
            "text/plain": [
              "<matplotlib.figure.Figure at 0x7fcdd108f2b0>"
            ]
          },
          "metadata": {
            "tags": []
          }
        }
      ]
    },
    {
      "metadata": {
        "id": "BUyAFtztOFST",
        "colab_type": "text"
      },
      "cell_type": "markdown",
      "source": [
        "**Objective Function** to minimize Equation 1 above:"
      ]
    },
    {
      "metadata": {
        "id": "uB04W71GNdB4",
        "colab_type": "code",
        "colab": {}
      },
      "cell_type": "code",
      "source": [
        "def objective(x, edges, node_pos_dict):\n",
        "    goodness_score = 0\n",
        "    for i in range(len(edges)):\n",
        "        if edges[i][0] == 's':\n",
        "            goodness_score += (1 - x[node_pos_dict.get(edges[i][1])]) ** 2\n",
        "        elif edges[i][1] == 't':\n",
        "            goodness_score += (x[node_pos_dict.get(edges[i][0])] - 0) ** 2\n",
        "        else:\n",
        "            goodness_score += (x[node_pos_dict.get(edges[i][0])] - x[node_pos_dict.get(edges[i][1])]) ** 2\n",
        "    return goodness_score"
      ],
      "execution_count": 0,
      "outputs": []
    },
    {
      "metadata": {
        "id": "a6Spw5jPEXgR",
        "colab_type": "text"
      },
      "cell_type": "markdown",
      "source": [
        "**Get voltages**"
      ]
    },
    {
      "metadata": {
        "id": "Mw8y5fXUNWKJ",
        "colab_type": "code",
        "colab": {
          "base_uri": "https://localhost:8080/",
          "height": 35
        },
        "outputId": "14fc6e2b-438f-42b0-c48f-13c46ad30f9e"
      },
      "cell_type": "code",
      "source": [
        "edges = list(G.edges())\n",
        "nodes = list(G.nodes())\n",
        "n = len(nodes)\n",
        "e = len(edges)\n",
        "\n",
        "x = [1, 0, 0, 0, 0]                                                     # initial guess solution array w/hardcoded s and t\n",
        "node_position_dict = {}                                                 # helper Dict to enable dynamic construction of objective function\n",
        "\n",
        "# map each node to its position in the solution array\n",
        "for i in range(n):                                                      \n",
        "    node_position_dict[nodes[i]] =  int(i)\n",
        "\n",
        "# call to objective function\n",
        "result = opt.minimize(objective, x, args=(edges, node_position_dict))\n",
        "res = np.round(result.x, 3)\n",
        "print(\"Induced Voltages: \", res)                      "
      ],
      "execution_count": 6,
      "outputs": [
        {
          "output_type": "stream",
          "text": [
            "Induced Voltages:  [1.000 0.625 0.500 0.375 0.000]\n"
          ],
          "name": "stdout"
        }
      ]
    },
    {
      "metadata": {
        "id": "BTIH68vOborA",
        "colab_type": "text"
      },
      "cell_type": "markdown",
      "source": [
        "**Compute Adjaceny Matrix of Currents**\n",
        "\n",
        "This matrix will be useful in the next stage when we need to (conveniently) get the sum of outgoing currents for each of the vertices on a path from `s` to `t`."
      ]
    },
    {
      "metadata": {
        "id": "4unvNuSU7Tns",
        "colab_type": "code",
        "colab": {
          "base_uri": "https://localhost:8080/",
          "height": 217
        },
        "outputId": "48ef3174-64b6-4c14-acfe-d90ce89ff5d2"
      },
      "cell_type": "code",
      "source": [
        "# get the adjacency matrix for G\n",
        "A = nx.to_scipy_sparse_matrix(G, nodelist=['s', 'a', 'b', 'c', 't'])\n",
        "A = A.todense()\n",
        "A = A * 1.0 # to allow decimal values in matrix A\n",
        "\n",
        "\n",
        "# map each node to its voltage\n",
        "node_volt_dict = {}\n",
        "for i in range(n):                                                      \n",
        "    node_volt_dict[nodes[i]] =  res[i] # `res` is the array of node voltages [1.000 0.625 0.500 0.375 0.000]\n",
        "\n",
        "print('Node Voltage Dictionary:', node_volt_dict)\n",
        "print('Directed Edges in G: ', edges)\n",
        "print('Node Position Dictionary', node_position_dict)\n",
        "\n",
        "# print(A)\n",
        "for i in range(n):\n",
        "  for j in range(n): \n",
        "   if A[i,j] == 1:\n",
        "      A[i,j] = node_volt_dict[list(node_volt_dict)[i]] - node_volt_dict[list(node_volt_dict)[j]] # `list(node_volt_dict)[i]` is used for indexing into the Dict (not pythonic....)\n",
        "print('\\nAdjacency Matrix of currents:\\n\\n', A)\n",
        "\n",
        "               "
      ],
      "execution_count": 17,
      "outputs": [
        {
          "output_type": "stream",
          "text": [
            "Node Voltage Dictionary: {'s': 1.0, 'a': 0.625, 'b': 0.5, 'c': 0.375, 't': 0.0}\n",
            "Directed Edges in G:  [('s', 'a'), ('s', 'b'), ('a', 'c'), ('a', 'b'), ('b', 'c'), ('b', 't'), ('c', 't')]\n",
            "Node Position Dictionary {'s': 0, 'a': 1, 'b': 2, 'c': 3, 't': 4}\n",
            "\n",
            "Adjacency Matrix of currents:\n",
            "\n",
            " [[0.000 0.375 0.500 0.000 0.000]\n",
            " [0.000 0.000 0.125 0.250 0.000]\n",
            " [0.000 0.000 0.000 0.125 0.500]\n",
            " [0.000 0.000 0.000 0.000 0.375]\n",
            " [0.000 0.000 0.000 0.000 0.000]]\n"
          ],
          "name": "stdout"
        }
      ]
    },
    {
      "metadata": {
        "id": "urkMlMZTFU7R",
        "colab_type": "text"
      },
      "cell_type": "markdown",
      "source": [
        "**Compute Delivered Current**\n",
        "\n",
        "This section computes the delivered current for all paths connecting `s` and `t`.\n",
        "\n",
        "* The current delivered by a given path is computed by taking into account the fact that vertics on the path may be connected to more than one neighbour thus distributing the current among its neighbours. The authors propose to take this \"loss\" of current into account by pro-rating the current delivered by a vertex proportionally to its total outgoing current.\n",
        "\n",
        "As per paper, two definitions apply:\n",
        "\n",
        "* For the starting edge in the path leaving `s`:\n",
        "\n",
        "$$\\hat{I}(s,u) = I(s,u)$$ \n",
        "\n",
        "* For all other edges:\n",
        "          \n",
        "$$\\hat{I}(s, ..., u_i) = \\hat{I}(s, ..., u_{i-1}) \\frac{I(u_{i-1}, u_i)}{I_{out}(u_{i-1})}$$ \n",
        "\n",
        "In practice we can implement the above formulas as shown in the example below:\n",
        "\n",
        "Path = (s -> a -> b -> c -> t)\n",
        "\n",
        "Delivered current  = $I(s,a) \\cdot \\frac{I(a,b)}{I_{out}(a)} \\cdot \\frac{I(b,c)}{I_{out}(b)} \\cdot \\frac{I(c,t)}{I_{out}(c)}$\n"
      ]
    },
    {
      "metadata": {
        "id": "U2yigMucgdnx",
        "colab_type": "code",
        "colab": {
          "base_uri": "https://localhost:8080/",
          "height": 145
        },
        "outputId": "2fab1623-55bb-41fb-dd80-e6eae07a8ae8"
      },
      "cell_type": "code",
      "source": [
        "paths = []\n",
        "delivered_current = 0\n",
        "[paths.append(p) for p in nx.all_simple_paths(G,source='s',target='t')]\n",
        "# print(paths)\n",
        "for path in paths:\n",
        "  for i in range(len(path)-1):\n",
        "      k = node_position_dict[path[i]]\n",
        "      v = node_position_dict[path[i+1]]\n",
        "      if node_position_dict[path[i]] == 0:                      \n",
        "  #       print(path[i], path[i+1], A[k,v])\n",
        "        delivered_current = A[k,v]\n",
        "      else:\n",
        "  #       print(path[i], path[i+1], A[k,v], np.sum(A[k,:]))\n",
        "        delivered_current *= (A[k,v] / np.sum(A[k,:]))\n",
        "  print('Delivered Current for path %s: %s' % (path, round(delivered_current, 3)))\n",
        "print('\\n The above results match the results shown in the paper!')  "
      ],
      "execution_count": 78,
      "outputs": [
        {
          "output_type": "stream",
          "text": [
            "Delivered Current for path ['s', 'a', 'c', 't']: 0.25\n",
            "Delivered Current for path ['s', 'a', 'b', 'c', 't']: 0.025\n",
            "Delivered Current for path ['s', 'a', 'b', 't']: 0.1\n",
            "Delivered Current for path ['s', 'b', 'c', 't']: 0.1\n",
            "Delivered Current for path ['s', 'b', 't']: 0.4\n",
            "\n",
            " The above results match the results shown in the paper!\n"
          ],
          "name": "stdout"
        }
      ]
    },
    {
      "metadata": {
        "id": "d2rEWKa-R_8Q",
        "colab_type": "text"
      },
      "cell_type": "markdown",
      "source": [
        "**Reference**:\n",
        "\n",
        "\n",
        "Christos Faloutsos, Kevin S. McCurley, and Andrew Tomkins. 2004. Fast discovery of\n",
        "connection subgraphs. In Proceedings of the tenth ACM SIGKDD international\n",
        "conference on Knowledge discovery and data mining, pages 118{127. ACM."
      ]
    },
    {
      "metadata": {
        "id": "PrJyN0GBiGmk",
        "colab_type": "text"
      },
      "cell_type": "markdown",
      "source": [
        "**Useful links**:\n",
        "\n",
        "http://cs-www.cs.yale.edu/homes/spielman/TALKS/blyth1.pdf (page 21)\n",
        "\n",
        "https://www.stat.berkeley.edu/~mmahoney/s15-stat260-cs294/Lectures/lecture16-17mar15.pdf (page 1)\n",
        "\n",
        "http://cs-www.cs.yale.edu/homes/spielman/TALKS/blyth1.pdf"
      ]
    }
  ]
}