{
  "nbformat": 4,
  "nbformat_minor": 0,
  "metadata": {
    "colab": {
      "name": "random_walk_with_restart.ipynb",
      "version": "0.3.2",
      "provenance": [],
      "collapsed_sections": []
    },
    "kernelspec": {
      "name": "python3",
      "display_name": "Python 3"
    }
  },
  "cells": [
    {
      "metadata": {
        "id": "5g08n8Kh_DSs",
        "colab_type": "text"
      },
      "cell_type": "markdown",
      "source": [
        "# Graphs: Random Walk with Restart\n",
        "\n",
        "Random walk with restart is the query biased version of PageRank: at each time point, the surfer has a constant probability to jump to the query node (Wu et al., 2016).\n",
        "\n",
        "Tong et al. (2006) define random walk with restart as follows:\n",
        "\n",
        "* Consider a random particle that starts from node i. The particle iteratively transmits to its neighborhood with the probability that is proportional to their edge weights. \n",
        "* Also at each step, it has some probability c to return to the node i. \n",
        "* The relevance score of node j wrt node i is defined as the steady-state probability ri,j that the particle will finally stay at node j.\n",
        "* Equation:\n",
        "\n",
        "$$\\vec{r}[t+1] = (1-c)B^T\\vec{r}[t] + c\\vec{q}$$\n",
        "\n",
        "\n",
        "\n"
      ]
    },
    {
      "metadata": {
        "id": "veHOCfI1Y1i4",
        "colab_type": "code",
        "colab": {}
      },
      "cell_type": "code",
      "source": [
        "import operator\n",
        "import networkx as nx\n",
        "import numpy as np\n",
        "import scipy\n",
        "from scipy.sparse import csr_matrix\n",
        "import matplotlib.pyplot as plt\n",
        "\n",
        "np.set_printoptions(precision=3, suppress=True, formatter={'float': '{: 0.4f}'.format}) # Suppress Scientific Notation in Numpy\n",
        "# print('NetworkX version:', nx.__version__)"
      ],
      "execution_count": 0,
      "outputs": []
    },
    {
      "metadata": {
        "id": "VM_IiNCOu-M8",
        "colab_type": "text"
      },
      "cell_type": "markdown",
      "source": [
        "**Toy Graph 1**\n",
        "\n",
        "source: Jin et al., 2017"
      ]
    },
    {
      "metadata": {
        "id": "XSurrDsOS7xl",
        "colab_type": "code",
        "colab": {}
      },
      "cell_type": "code",
      "source": [
        "# G = nx.DiGraph() # directed\n",
        "\n",
        "# G.add_edge('A', 'B')\n",
        "# G.add_edge('A', 'F')\n",
        "# G.add_edge('B', 'C')\n",
        "# G.add_edge('C', 'D')\n",
        "# G.add_edge('C', 'E')\n",
        "# G.add_edge('E', 'D')\n",
        "# G.add_edge('E', 'H')\n",
        "# G.add_edge('H', 'I')\n",
        "# G.add_edge('I', 'G')\n",
        "# G.add_edge('G', 'H')\n",
        "# G.add_edge('F', 'G')\n",
        "# G.add_edge('D', 'B')\n",
        "\n",
        "# fixed_positions = {'A':(0,4), 'B':(1,6), 'C':(3,7), 'D':(3,5), 'E':(5,6), \n",
        "#                    'F':(1.5,2), 'G':(3,2), 'H':(5,3), 'I':(5,1)}\n",
        "\n",
        "\n",
        "# fixed_nodes = fixed_positions.keys()\n",
        "# pos = nx.spring_layout(G, pos=fixed_positions, fixed=fixed_nodes)\n",
        "\n",
        "# # show G\n",
        "# nx.draw_networkx_nodes(G,pos)\n",
        "# nx.draw(G, pos, with_labels=True, node_color='white')"
      ],
      "execution_count": 0,
      "outputs": []
    },
    {
      "metadata": {
        "id": "2p_HL8hJuhf8",
        "colab_type": "text"
      },
      "cell_type": "markdown",
      "source": [
        "**Toy Graph 2**\n",
        "\n",
        "source: Wang et al., 2013"
      ]
    },
    {
      "metadata": {
        "id": "9yuUhocFh8n2",
        "colab_type": "code",
        "colab": {
          "base_uri": "https://localhost:8080/",
          "height": 347
        },
        "outputId": "ede699ea-29b2-452e-c938-58defc192a91"
      },
      "cell_type": "code",
      "source": [
        "G = nx.Graph() # directed\n",
        "\n",
        "G.add_edge('A', 'B')\n",
        "G.add_edge('A', 'C')\n",
        "G.add_edge('A', 'D')\n",
        "G.add_edge('B', 'C')\n",
        "G.add_edge('B', 'I')\n",
        "G.add_edge('C', 'J')\n",
        "G.add_edge('H', 'G')\n",
        "G.add_edge('H', 'I')\n",
        "G.add_edge('H', 'J')\n",
        "G.add_edge('G', 'F')\n",
        "G.add_edge('E', 'F')\n",
        "G.add_edge('D', 'F')\n",
        "G.add_edge('D', 'E')\n",
        "G.add_edge('E', 'J')\n",
        "G.add_edge('G', 'I')\n",
        "\n",
        "fixed_positions = {'A':(1,2), 'B':(1,1), 'C':(2,1.5), 'D':(1.5,6), 'E':(3,4.5), \n",
        "                   'F':(4.5,6), 'G':(5,2), 'H':(4,1.5), 'I':(5,1), 'J':(3,2.5)}\n",
        "\n",
        "\n",
        "fixed_nodes = fixed_positions.keys()\n",
        "pos = nx.spring_layout(G, pos=fixed_positions, fixed=fixed_nodes)\n",
        "\n",
        "# show G\n",
        "nx.draw_networkx_nodes(G,pos)\n",
        "nx.draw(G, pos, with_labels=True, node_color='white')"
      ],
      "execution_count": 208,
      "outputs": [
        {
          "output_type": "display_data",
          "data": {
            "image/png": "[encoded data removed]",
            "text/plain": [
              "<matplotlib.figure.Figure at 0x7fbe660e8c88>"
            ]
          },
          "metadata": {
            "tags": []
          }
        }
      ]
    },
    {
      "metadata": {
        "id": "-k956nCK93EU",
        "colab_type": "text"
      },
      "cell_type": "markdown",
      "source": [
        "*Step 1: Compute adjaceny matrix $H$ from $G$.*"
      ]
    },
    {
      "metadata": {
        "id": "9mKl2V7Scb00",
        "colab_type": "code",
        "colab": {}
      },
      "cell_type": "code",
      "source": [
        "# Get the Adjacency matrix H\n",
        "# H = nx.to_scipy_sparse_matrix(G, nodelist=['A','B','C','D','E','F','G','H','I']) # example 1\n",
        "H = nx.to_scipy_sparse_matrix(G, nodelist=['A','B','C','D','E','F','G','H','I', 'J']) # example 2\n",
        "H = H.todense()\n",
        "# print('\\nAdjacency Matrix H of G:\\n', H)"
      ],
      "execution_count": 0,
      "outputs": []
    },
    {
      "metadata": {
        "id": "pLC1SU8bT3GT",
        "colab_type": "text"
      },
      "cell_type": "markdown",
      "source": [
        "*Step 2: Compute row-normailized transition matrix $B$ from $H$.*"
      ]
    },
    {
      "metadata": {
        "id": "REmL-KpCT6gP",
        "colab_type": "code",
        "colab": {}
      },
      "cell_type": "code",
      "source": [
        "L, D = scipy.sparse.csgraph.laplacian(csgraph=H, return_diag=True, use_out_degree=True) # important to specify the use of out degree!! \n",
        "degree_matrix = np.diag(D) # np.diag is needed to turn the degree array returned by scipy into a matrix\n",
        "D_inv = np.linalg.inv(degree_matrix)\n",
        "B = D_inv * H # row-normalized adjacency (transition) matrix\n",
        "# print('\\nRow-normalized Adjacency (Transition) Matrix:\\n\\n', B)  "
      ],
      "execution_count": 0,
      "outputs": []
    },
    {
      "metadata": {
        "id": "e3qUdCOzUQR_",
        "colab_type": "text"
      },
      "cell_type": "markdown",
      "source": [
        "*Step 3: Compute the RWR score vector $\\vec{r}$ w.r.t. some node*\n",
        "\n"
      ]
    },
    {
      "metadata": {
        "id": "2RIhZf4SUSLo",
        "colab_type": "code",
        "colab": {
          "base_uri": "https://localhost:8080/",
          "height": 126
        },
        "outputId": "e0b8e74c-488a-4a49-b770-5fc45f2fa5f5"
      },
      "cell_type": "code",
      "source": [
        "# Initialize useful parameters\n",
        "N = nx.number_of_nodes(G)\n",
        "# c=0.5\n",
        "c=0.1\n",
        "error = 0.0001\n",
        "\n",
        "# q = np.array([1,0,0,0,0,0,0,0,0]) # starting vector example 1 (Node A)\n",
        "q = np.array([0,0,0,0,0,0,0,0,0,1]) # starting vector example 2 (Node J)\n",
        "q.shape = (N,1) # force it to be a column vector\n",
        "\n",
        "# Iterate\n",
        "flag = 1 # stop flag\n",
        "i = 0 # iterations counter\n",
        "r = q # initialize RWR scores vector \n",
        "while flag:\n",
        "  i += 1\n",
        "  r_new = ((1-c) * B.T * r) + (c * q)\n",
        "  if(np.all(abs(np.subtract(r_new, r)) < error)): # test for convergence\n",
        "#   if(np.linalg.norm(r_new) == np.linalg.norm(r)): # test for convergence (option 2)\n",
        "    flag = 0\n",
        "  r = r_new # update RWR score vector\n",
        "\n",
        "print('\\nFinal RWR score vector:', r.T) # out of curiosity\n",
        "\n",
        "# get index of highest ranked node\n",
        "index, value = max(enumerate(r.tolist()), key=operator.itemgetter(1))\n",
        "pos = index+1\n",
        "print('Node %i has highest score.\\n' %pos) # list is indexed at zero\n",
        "print('Number of iterations required to reach desired convergence:', i)"
      ],
      "execution_count": 211,
      "outputs": [
        {
          "output_type": "stream",
          "text": [
            "\n",
            "Final RWR score vector: [[ 0.0804  0.0804  0.1072  0.0804  0.1072  0.0804  0.0804  0.1072  0.0804\n",
            "   0.1964]]\n",
            "Node 10 has highest score.\n",
            "\n",
            "Number of iterations required to reach desired convergence: 19\n"
          ],
          "name": "stdout"
        }
      ]
    },
    {
      "metadata": {
        "id": "HjKECEA-uAMl",
        "colab_type": "text"
      },
      "cell_type": "markdown",
      "source": [
        "**References**\n",
        "\n",
        "Wu, Y., Bian, Y. and Zhang, X. 2016. Remember Where You Came from: On the Second-order Random Walk Based Proximity Measures. Proc. VLDB Endow., 10(1), pp.13–24. [link](http://www.vldb.org/pvldb/vol10/p13-wu.pdf)\n",
        "\n",
        "Tong, H., Faloutsos, C. and Pan, J.-Y. 2006. Fast random walk with restart and its applications.\n",
        "\n",
        "Jin, W., Jung, J. and Kang, U. 2017. Supervised and Extended Restart in Random Walks for Ranking and Link Prediction in Networks. arXiv:1710.06609.\n",
        "\n",
        "Wang, H., Chang, C.K., Yang, H.-I. and Chen, Y. 2013. Estimating the Relative Importance of Nodes in Social Networks. Journal of Information Processing, 21(3), pp.414–422. [link](https://www.jstage.jst.go.jp/article/ipsjjip/21/3/21_414/_pdf)\n"
      ]
    },
    {
      "metadata": {
        "id": "fLbi43UGI8Iw",
        "colab_type": "text"
      },
      "cell_type": "markdown",
      "source": [
        "**Useful LInks**\n",
        "\n",
        "[A Comparative Study of Matrix Factorization and Random Walk with Restart in Recommender Systems](https://arxiv.org/pdf/1708.09088.pdf)\n",
        "\n",
        "[Reverse Top-k Search using Random Walk with Restart](http://www.cs.hku.hk/research/techreps/document/TR-2013-08.pdf)\n",
        "\n",
        "[Document Retrieval Method Using Random Walk with Restart on Weighted Co-citation Network](https://onlinelibrary.wiley.com/doi/pdf/10.1002/meet.2014.14505101126)\n",
        "\n",
        "[A network-based method using a random walk with restart algorithm and screening tests to identify novel genes associated with Menière's disease](http://journals.plos.org/plosone/article?id=10.1371/journal.pone.0182592)"
      ]
    },
    {
      "metadata": {
        "id": "MM5LW8a89TpZ",
        "colab_type": "text"
      },
      "cell_type": "markdown",
      "source": [
        "**Notes**\n",
        "\n",
        "* Jin et al. has a good section on limitations of RWR"
      ]
    }
  ]
}