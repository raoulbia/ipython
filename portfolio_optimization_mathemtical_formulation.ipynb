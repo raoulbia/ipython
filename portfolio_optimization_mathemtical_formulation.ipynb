{
  "nbformat": 4,
  "nbformat_minor": 0,
  "metadata": {
    "kernelspec": {
      "display_name": "Python 3",
      "language": "python",
      "name": "python3"
    },
    "language_info": {
      "codemirror_mode": {
        "name": "ipython",
        "version": 3
      },
      "file_extension": ".py",
      "mimetype": "text/x-python",
      "name": "python",
      "nbconvert_exporter": "python",
      "pygments_lexer": "ipython3",
      "version": "3.6.8"
    },
    "colab": {
      "name": "portfolio-optimization-mathemtical-formulation.ipynb",
      "provenance": [],
      "collapsed_sections": []
    }
  },
  "cells": [
    {
      "cell_type": "markdown",
      "metadata": {
        "id": "0U_UHXHjxQxt",
        "colab_type": "text"
      },
      "source": [
        "### Portfolio Optimization Mathemtical Formulation\n",
        "\n",
        "$\\begin{equation*}\n",
        "\\text{min}\\sum\n",
        "_\\limits{\\forall{\\sigma_{ij} \\in \\Sigma}}\n",
        "\\sigma_{ij}x_ix_j \\\\\n",
        "+ P(\\text{budget} - \\sum_\\limits{i=0}^\\limits{i=n}x_i \n",
        "-(2^{sb} + \\sum_\\limits{i=0}^\\limits{i=sb} \\sum_\\limits{j=(n(vb)))}^\\limits{n(vb)+sb} 2^ix_j))^2\\\\\n",
        "+ P(\\text{target return} + \\sum_\\limits{i=0}^\\limits{i=n}\\mu_i x_i)^2\n",
        "\\end{equation*}$\n",
        "\n",
        "where\n",
        "\n",
        "* n = num assets\n",
        "* sb = slackbits\n",
        "* vb = var bits\n"
      ]
    },
    {
      "cell_type": "markdown",
      "metadata": {
        "id": "AMQ-Cty_xQxz",
        "colab_type": "text"
      },
      "source": [
        "\n",
        "the $\\textbf{breakdown}$ is shown below in more detail...\n",
        "(squaring of components not shown)\n"
      ]
    },
    {
      "cell_type": "markdown",
      "metadata": {
        "id": "M8msN6dUxQx2",
        "colab_type": "text"
      },
      "source": [
        "### Objective Function: minimise risk\n",
        "\n",
        "$\\text{min}\\sum\n",
        "_\\limits{\\forall{\\sigma_{ij} \\in \\Sigma}}\n",
        "\\sigma_{ij}x_ix_j$\n",
        "\n",
        "Example for one pair of assets: \n",
        "* $x_i = 1x_0 + 2x_1$ \n",
        "* $x_j = 4x_2 + 16x_4$ \n",
        "* $\\sigma_{ij} = 0.8$\n",
        "\n",
        "$\\sum\n",
        "\\sigma_{ij}x_ix_j\n",
        "= 0.8 \\times (1+2) \\times (4+16) = 0.8 \\times 23 = 1.84$"
      ]
    },
    {
      "cell_type": "markdown",
      "metadata": {
        "id": "fC60RBjcxQx4",
        "colab_type": "text"
      },
      "source": [
        "### Budget Constraint\n",
        "\n",
        "$\\text{budget} - \\sum_\\limits{i=0}^\\limits{i=n}x_i + \\text{budgetSlack}\\ \\ $ where $n=\\text{number of assets}$\n",
        "\n",
        "Example for one pair of assets: \n",
        "* $x_1 = 1x_0 + 2x_1$ \n",
        "* $x_2 = 4x_2 + 16x_4$ \n",
        "\n",
        "$\\text{budget} - \\sum_\\limits{i \\in (1,2)}x_i = 1000 - (1 + 2 + 4 + 16) + \\text{budgetSlack}= 977 + \\text{budgetSlack}$"
      ]
    },
    {
      "cell_type": "markdown",
      "metadata": {
        "id": "ff6WhQNYxQx5",
        "colab_type": "text"
      },
      "source": [
        "#### budgetSlack\n",
        "\n",
        "* allow for flexibility\n",
        "* is added to Budget Constraint!!\n",
        "* budget constraint is squared only thereafter\n",
        "\n",
        "$-2^{sb} + \n",
        "\\sum_\\limits{i=0}^\\limits{i=sb} \n",
        "\\sum_\\limits{j=(n(vb)))}^\\limits{n(vb)+sb} 2^ix_j\\ \\ $ where $sb$ are nbr. slack bits and $vb$ are nbr. var bits.\n",
        "\n",
        "Example\n",
        "* slack bits = 2\n",
        "* var bits = 8\n",
        "* thus $i$ is in range (0,2) and $j$ is in range$(2 \\times 8, (2 \\times 8)+2)=(16, 18)$\n",
        "\n",
        "$-2^2 + 2^0x_{16} + 2^1x_{17} + 2^2x_{18} = -4 + 1x_{16} + 2x_{17} + 4x_{18}$"
      ]
    },
    {
      "cell_type": "markdown",
      "metadata": {
        "id": "e0cdfZt1xQx7",
        "colab_type": "text"
      },
      "source": [
        "### Target Return Constraint\n",
        "\n",
        "$\\text{target return} + \\sum_\\limits{i=0}^\\limits{i=n}\\mu_i x_i$ where $\\mu_i$ is the mean historical return for asset $i$.\n",
        "\n",
        "Example for one pair of assets: \n",
        "* $x_1 = 1x_0 + 2x_1$ \n",
        "* $x_2 = 4x_2 + 16x_4$ \n",
        "* $\\mu_1=0.01$ and $\\mu_2=0.02$\n",
        "* $\\text{target return} = 0.01$\n",
        "\n",
        "$\\text{target return} + \\sum_\\limits{i \\in (1,2)}\\mu_i x_i = 0.01 + 0.01(1+2) + 0.02(4 + 16) = 0.01 + 0.43 = 0.44$"
      ]
    }
  ]
}