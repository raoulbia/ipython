{
  "nbformat": 4,
  "nbformat_minor": 0,
  "metadata": {
    "colab": {
      "name": "tsp.ipynb",
      "provenance": [],
      "collapsed_sections": []
    },
    "kernelspec": {
      "name": "python3",
      "display_name": "Python 3"
    }
  },
  "cells": [
    {
      "cell_type": "markdown",
      "metadata": {
        "id": "UeDsLYq9pKlH",
        "colab_type": "text"
      },
      "source": [
        "## QUBO for The Traveling Salesperson Problem\n",
        "\n",
        "#### Repersentation\n",
        "\n",
        "Similarly to the graph coloring problem, we represent the problem as city-visit combinations e.g.\n",
        "\n",
        "```\n",
        "| c_0              | c_1             | c_2             \n",
        "| v_0   v_1   v_3  | v_0   v_1   v_3 | v_0   v_1   v_3 \n",
        "```\n",
        "\n",
        "#### Objective Function\n",
        "\n",
        "$$Min \\sum_{(a,b) \\in E} w_{ab}\\sum_{i=0}^{i=N}x_{c_a}x_{c_b}$$\n",
        "\n",
        "#### Constraints\n",
        "\n",
        "* C1: At most one city for any given visit. \n",
        "\n",
        "$$\\sum_{v \\in V}(1 - \\sum_{c=0}^{c=N}x_{cv})^2$$ \n",
        "        \n",
        "      where N is the number of cities\n",
        "\n",
        "* C2: At most one visit for any given city, except city $c_0$ which is visited twice (start and finish).\n",
        "\n",
        "$$\\sum_{c=1}^{c=N}(1 - \\sum_{v \\in V}x_{cv})^2$$ \n",
        "\n",
        "\n",
        "* C3: Visit all cities\n",
        "\n",
        "$$(\\sum_{c=0}^{c=N}\\sum_{v \\in V}x_{cv}-N)^2$$\n",
        "\n",
        "* C4: Begin and end tour at $c_0$\n",
        "\n",
        " * Classical Constraint\n",
        " \n",
        "         Select exactly two i.e. x + y = 2\n",
        "\n",
        " * Equivalent Penalty: \n",
        " \n",
        "         (x + y - 2)^2\n",
        "\n",
        " $$\\ (\\sum_{v \\in\\{0, N\\}}x_{c_0v}-2 \\ )^2$$\n",
        "\n",
        "#### Final QUBO\n",
        "\n",
        "$$Min \\sum_{(a,b) \\in E} w_{ab}\\sum_{i=0}^{i=N}x_{c_a}x_{c_b} + \\sum_{v \\in V}(1 - \\sum_{c=0}^{c=N}x_{cv})^2 + \\sum_{c=1}^{c=N}(1 - \\sum_{v \\in V}x_{cv})^2 + (\\sum_{c=0}^{c=N}\\sum_{v \\in V}x_{cv}-N)^2 + (\\sum_{v \\in\\{0, N\\}}x_{c_0v}-2 \\ )^2$$"
      ]
    }
  ]
}