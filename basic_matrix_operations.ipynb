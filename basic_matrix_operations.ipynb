{
  "nbformat": 4,
  "nbformat_minor": 0,
  "metadata": {
    "colab": {
      "name": "basic-matrix-operations.ipynb",
      "version": "0.3.2",
      "provenance": [],
      "collapsed_sections": []
    },
    "kernelspec": {
      "name": "python3",
      "display_name": "Python 3"
    }
  },
  "cells": [
    {
      "metadata": {
        "id": "YRiZfyv7-Plr",
        "colab_type": "text"
      },
      "cell_type": "markdown",
      "source": [
        "#Graphs: Basic Matrix Operations"
      ]
    },
    {
      "metadata": {
        "id": "KYQ7jcP7Mihf",
        "colab_type": "code",
        "colab": {}
      },
      "cell_type": "code",
      "source": [
        "import numpy as np\n",
        "import networkx as nx\n",
        "import scipy"
      ],
      "execution_count": 0,
      "outputs": []
    },
    {
      "metadata": {
        "id": "ZGCota5bS-YC",
        "colab_type": "text"
      },
      "cell_type": "markdown",
      "source": [
        "**Create a Graph**\n",
        "\n",
        "Toy graph taken from the course [Networks: Friends, Money, and Bytes](https://www.coursera.org/learn/friends-money-bytes/) (Week 2 Lesson 2)."
      ]
    },
    {
      "metadata": {
        "id": "pFB2Qq2PS9Fj",
        "colab_type": "code",
        "colab": {
          "base_uri": "https://localhost:8080/",
          "height": 347
        },
        "outputId": "6dc2605e-b3ae-418a-cb17-76e1ddaabf5b"
      },
      "cell_type": "code",
      "source": [
        "G = nx.DiGraph() # directed\n",
        "# G = nx.Graph() # undirected\n",
        "G.add_edge(1, 3, transition_probability=1)\n",
        "G.add_edge(2, 3, transition_probability=1)\n",
        "G.add_edge(3, 4, transition_probability=1)\n",
        "G.add_edge(4, 1, transition_probability=1)\n",
        "G.add_edge(4, 2, transition_probability=1)\n",
        "G.add_edge(4, 3, transition_probability=1)\n",
        "\n",
        "fixed_positions = {1:(0,4), 2:(0,0), 3:(3,2), 4:(5,2)}\n",
        "fixed_nodes = fixed_positions.keys()\n",
        "pos = nx.spring_layout(G, pos=fixed_positions, fixed=fixed_nodes)\n",
        "labels = nx.get_edge_attributes(G,'transition_probability')\n",
        "\n",
        "# show G\n",
        "nx.draw_networkx_edge_labels(G,pos,edge_labels=labels)\n",
        "nx.draw_networkx_nodes(G,pos)\n",
        "nx.draw(G, pos, with_labels=True, node_color='white')"
      ],
      "execution_count": 5,
      "outputs": [
        {
          "output_type": "display_data",
          "data": {
            "image/png": "[encoded data removed]",
            "text/plain": [
              "<matplotlib.figure.Figure at 0x7f31495fe128>"
            ]
          },
          "metadata": {
            "tags": []
          }
        }
      ]
    },
    {
      "metadata": {
        "id": "fUWd08D3SAzJ",
        "colab_type": "text"
      },
      "cell_type": "markdown",
      "source": [
        "**Degree Matrix**\n",
        "\n",
        "* The **degree matrix** is a **diagonal matrix** which contains information about the degree of each vertex—that is, the number of edges attached to each vertex.[\n",
        "\n",
        "* It is used together with the adjacency matrix to construct the Laplacian matrix of a graph.\n",
        "\n"
      ]
    },
    {
      "metadata": {
        "id": "youEQ-SiTHc7",
        "colab_type": "text"
      },
      "cell_type": "markdown",
      "source": [
        "Get Degree Matrix\n",
        "\n",
        "* The easiest way is to use scipy\n",
        "* pre-requisite: manually build an adjacency matrix or get if from G"
      ]
    },
    {
      "metadata": {
        "id": "kfYYSw5rNCPk",
        "colab_type": "code",
        "colab": {
          "base_uri": "https://localhost:8080/",
          "height": 235
        },
        "outputId": "271ac59b-4dbb-4dd0-de51-61b073a3c16e"
      },
      "cell_type": "code",
      "source": [
        "A = nx.to_scipy_sparse_matrix(G, nodelist=[1,2,3,4])\n",
        "L, D = scipy.sparse.csgraph.laplacian(csgraph=A, return_diag=True, use_out_degree=True) # important to specify the use of out degree!! \n",
        "degree_matrix = np.diag(D) # np.diag is needed to turn the degree array returned by scipy into a matrix\n",
        "print('\\nAdjacency Matrix A:\\n', A.todense())\n",
        "print('\\nDiagonal (degree) matrix \\nwhere each entry is the sum of the corresponding row in A:\\n', degree_matrix)"
      ],
      "execution_count": 6,
      "outputs": [
        {
          "output_type": "stream",
          "text": [
            "\n",
            "Adjacency Matrix A:\n",
            " [[0 0 1 0]\n",
            " [0 0 1 0]\n",
            " [0 0 0 1]\n",
            " [1 1 1 0]]\n",
            "\n",
            "Diagonal (degree) matrix \n",
            "where each entry is the sum of the corresponding row in A:\n",
            " [[1 0 0 0]\n",
            " [0 1 0 0]\n",
            " [0 0 1 0]\n",
            " [0 0 0 3]]\n"
          ],
          "name": "stdout"
        }
      ]
    },
    {
      "metadata": {
        "id": "_cb0D2JaVO6k",
        "colab_type": "text"
      },
      "cell_type": "markdown",
      "source": [
        "**Inverse of the Degree Matrix**\n",
        "\n",
        "* see [here](http://download.nos.org/srsec311new/L.No.05.pdf) for more on the inverse of a matrix\n"
      ]
    },
    {
      "metadata": {
        "id": "KpzwzRuAVSz0",
        "colab_type": "code",
        "colab": {
          "base_uri": "https://localhost:8080/",
          "height": 101
        },
        "outputId": "aecb1137-d093-4de3-eb6a-6447b1201fb4"
      },
      "cell_type": "code",
      "source": [
        "D_inv = np.linalg.inv(degree_matrix)\n",
        "print('inverse of the degree matrix:\\n', D_inv)"
      ],
      "execution_count": 4,
      "outputs": [
        {
          "output_type": "stream",
          "text": [
            "inverse of the degree matrix:\n",
            " [[1.         0.         0.         0.        ]\n",
            " [0.         1.         0.         0.        ]\n",
            " [0.         0.         1.         0.        ]\n",
            " [0.         0.         0.         0.33333333]]\n"
          ],
          "name": "stdout"
        }
      ]
    },
    {
      "metadata": {
        "id": "xL_Rb4l6xhM8",
        "colab_type": "text"
      },
      "cell_type": "markdown",
      "source": [
        "**Transition Probability Matrix**\n",
        "\n",
        "The notion of a transition propability matrix *P* is grounded in Markov chain graph theory. \n",
        "\n",
        "* A Markov chain is characterized by an N × N transition probability matrix *P* each of whose entries is in the interval [0, 1].\n",
        "* the entries in each row of *P* add up to 1. \n",
        "* The Markov chain can be in one of the N states at any given timestep; then, the entry $P_{ij}$ tells us the probability that the state at the next timestep is *j*, conditioned on the current state being *i*. \n",
        "* Each entry Pij is known as a transition probability and depends only on the current state *i*.\n",
        "\n"
      ]
    },
    {
      "metadata": {
        "id": "Y_FD9uefvuon",
        "colab_type": "code",
        "colab": {
          "base_uri": "https://localhost:8080/",
          "height": 118
        },
        "outputId": "edb0997d-9afa-4481-f57f-86f2ebd32c37"
      },
      "cell_type": "code",
      "source": [
        "P = D_inv * A\n",
        "print('Transition probability matrix P at time t=0:\\n\\n', P)"
      ],
      "execution_count": 13,
      "outputs": [
        {
          "output_type": "stream",
          "text": [
            "Transition probability matrix P at time t=0:\n",
            "\n",
            " [[0.         0.         1.         0.        ]\n",
            " [0.         0.         1.         0.        ]\n",
            " [0.         0.         0.         1.        ]\n",
            " [0.33333333 0.33333333 0.33333333 0.        ]]\n"
          ],
          "name": "stdout"
        }
      ]
    },
    {
      "metadata": {
        "id": "T-FU2479-nyg",
        "colab_type": "text"
      },
      "cell_type": "markdown",
      "source": [
        "**References**\n",
        "\n",
        "Page, L., Brin, S., Motwani, R. and Winograd, T. 1999. The PageRank citation ranking: Bringing order to the web. Stanford InfoLab.\n"
      ]
    }
  ]
}