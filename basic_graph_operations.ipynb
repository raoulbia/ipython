{
  "nbformat": 4,
  "nbformat_minor": 0,
  "metadata": {
    "colab": {
      "name": "basic-graph-operations.ipynb",
      "version": "0.3.2",
      "provenance": [],
      "collapsed_sections": []
    },
    "kernelspec": {
      "name": "python3",
      "display_name": "Python 3"
    }
  },
  "cells": [
    {
      "metadata": {
        "id": "UfJwymx67p9k",
        "colab_type": "text"
      },
      "cell_type": "markdown",
      "source": [
        "# Graphs: Basic Operations"
      ]
    },
    {
      "metadata": {
        "id": "5Rbo91pJIKgi",
        "colab_type": "text"
      },
      "cell_type": "markdown",
      "source": [
        "**Set up the Data**\n",
        "\n",
        "\n",
        "*  Construct Directed Graph\n",
        "*  Show Graph\n",
        "\n"
      ]
    },
    {
      "metadata": {
        "id": "9UnGQXvx71-k",
        "colab_type": "code",
        "colab": {}
      },
      "cell_type": "code",
      "source": [
        "import scipy\n",
        "import numpy as np\n",
        "import networkx as nx\n",
        "import matplotlib.pyplot as plt\n",
        "\n",
        "from scipy.sparse import csr_matrix # csr = Compressed Sparse Row matrix\n",
        "from scipy.sparse.csgraph import minimum_spanning_tree\n",
        "import scipy.optimize as opt"
      ],
      "execution_count": 0,
      "outputs": []
    },
    {
      "metadata": {
        "id": "-bOkay6T8KPE",
        "colab_type": "code",
        "colab": {}
      },
      "cell_type": "code",
      "source": [
        "G = nx.DiGraph()\n",
        "G.add_edge('s','a')\n",
        "G.add_edge('s','b')\n",
        "G.add_edge('a','c')\n",
        "G.add_edge('a','b')\n",
        "G.add_edge('b','c')\n",
        "G.add_edge('b','t')\n",
        "G.add_edge('c','t')"
      ],
      "execution_count": 0,
      "outputs": []
    },
    {
      "metadata": {
        "id": "fabCJ4PX-gOZ",
        "colab_type": "code",
        "colab": {
          "base_uri": "https://localhost:8080/",
          "height": 445
        },
        "outputId": "69e879c5-40bf-45f9-af39-f2a405420105"
      },
      "cell_type": "code",
      "source": [
        "fixed_positions = {'s':(0,0), 'a':(0,2), 'b':(1,1), 'c':(2,2), 't':(2,0)}\n",
        "fixed_nodes = fixed_positions.keys()\n",
        "pos = nx.spring_layout(G, pos=fixed_positions, fixed=fixed_nodes)\n",
        "nx.draw(G, pos)\n",
        "plt.show()"
      ],
      "execution_count": 40,
      "outputs": [
        {
          "output_type": "display_data",
          "data": {
            "image/png": "[encoded data removed]",
            "text/plain": [
              "<matplotlib.figure.Figure at 0x7fe57659b8d0>"
            ]
          },
          "metadata": {
            "tags": []
          }
        }
      ]
    },
    {
      "metadata": {
        "id": "S-9MR2K3FEWB",
        "colab_type": "text"
      },
      "cell_type": "markdown",
      "source": [
        "**Get cycles** (if any)"
      ]
    },
    {
      "metadata": {
        "id": "N8SQjftcFH-Z",
        "colab_type": "code",
        "colab": {
          "base_uri": "https://localhost:8080/",
          "height": 35
        },
        "outputId": "fd9d7d3a-fad1-46d4-812b-9f9cc3a58567"
      },
      "cell_type": "code",
      "source": [
        "[print(i) for i in nx.simple_cycles(G)]"
      ],
      "execution_count": 41,
      "outputs": [
        {
          "output_type": "execute_result",
          "data": {
            "text/plain": [
              "[]"
            ]
          },
          "metadata": {
            "tags": []
          },
          "execution_count": 41
        }
      ]
    },
    {
      "metadata": {
        "id": "iTLH5Vwk-j24",
        "colab_type": "text"
      },
      "cell_type": "markdown",
      "source": [
        "**Get Adjacency Matrix A**"
      ]
    },
    {
      "metadata": {
        "id": "QWYdx_Ybj3qq",
        "colab_type": "text"
      },
      "cell_type": "markdown",
      "source": [
        "Option 1"
      ]
    },
    {
      "metadata": {
        "id": "qgDKfteNE2QJ",
        "colab_type": "code",
        "colab": {
          "base_uri": "https://localhost:8080/",
          "height": 126
        },
        "outputId": "a1e610ae-75d6-4f4e-d942-11c9c6886461"
      },
      "cell_type": "code",
      "source": [
        "A1 = nx.adjacency_matrix(G)\n",
        "print(A1.todense())\n",
        "print('Adjacency Matrix dimensions (rowsxcols): ', A1.shape)"
      ],
      "execution_count": 42,
      "outputs": [
        {
          "output_type": "stream",
          "text": [
            "[[0 1 1 0 0]\n",
            " [0 0 1 1 0]\n",
            " [0 0 0 1 1]\n",
            " [0 0 0 0 1]\n",
            " [0 0 0 0 0]]\n",
            "Adjacency Matrix dimensions (rowsxcols):  (5, 5)\n"
          ],
          "name": "stdout"
        }
      ]
    },
    {
      "metadata": {
        "id": "jhz8rwA9Hcas",
        "colab_type": "text"
      },
      "cell_type": "markdown",
      "source": [
        "Option 2"
      ]
    },
    {
      "metadata": {
        "id": "EfwgODMrGm2C",
        "colab_type": "code",
        "colab": {
          "base_uri": "https://localhost:8080/",
          "height": 108
        },
        "outputId": "37da250e-32d7-4191-b400-4dfcddcda08a"
      },
      "cell_type": "code",
      "source": [
        "A2 = nx.to_scipy_sparse_matrix(G, nodelist=['s', 'a', 'b', 'c', 't'])\n",
        "print(A2.todense())"
      ],
      "execution_count": 43,
      "outputs": [
        {
          "output_type": "stream",
          "text": [
            "[[0 1 1 0 0]\n",
            " [0 0 1 1 0]\n",
            " [0 0 0 1 1]\n",
            " [0 0 0 0 1]\n",
            " [0 0 0 0 0]]\n"
          ],
          "name": "stdout"
        }
      ]
    },
    {
      "metadata": {
        "id": "Z3M7pJxwFRIz",
        "colab_type": "text"
      },
      "cell_type": "markdown",
      "source": [
        "**Get Incidence Matrix B**\n",
        "\n",
        "A Note on notation convention:\n",
        "\n",
        "`+` is used for edge pointing twoards vertex\n",
        "\n",
        "`-` is used for edge pointing away from vertex"
      ]
    },
    {
      "metadata": {
        "id": "QtS--rP1FUwx",
        "colab_type": "code",
        "colab": {
          "base_uri": "https://localhost:8080/",
          "height": 145
        },
        "outputId": "33cde146-a620-4378-e4eb-02040314c77c"
      },
      "cell_type": "code",
      "source": [
        "B = nx.incidence_matrix(G, oriented=True) # returns a SciPy sparse matrix\n",
        "print(B.todense())\n",
        "print('Incidence Matrix dimensions (rowsxcols): ', B.shape, '\\n')"
      ],
      "execution_count": 51,
      "outputs": [
        {
          "output_type": "stream",
          "text": [
            "[[-1. -1.  0.  0.  0.  0.  0.]\n",
            " [ 1.  0. -1. -1.  0.  0.  0.]\n",
            " [ 0.  1.  0.  1. -1. -1.  0.]\n",
            " [ 0.  0.  1.  0.  1.  0. -1.]\n",
            " [ 0.  0.  0.  0.  0.  1.  1.]]\n",
            "Incidence Matrix dimensions (rowsxcols):  (5, 7) \n",
            "\n"
          ],
          "name": "stdout"
        }
      ]
    },
    {
      "metadata": {
        "id": "r0MAKoBjJHZy",
        "colab_type": "text"
      },
      "cell_type": "markdown",
      "source": [
        "**Get Laplacian Matrix from Adjacency Matrix A** \n",
        "\n",
        "Note that this Laplacian does not appear to be useful!"
      ]
    },
    {
      "metadata": {
        "id": "vda8iiSwQ7yB",
        "colab_type": "code",
        "colab": {
          "base_uri": "https://localhost:8080/",
          "height": 199
        },
        "outputId": "c24f2adc-5742-4759-83bb-8c79e96a4622"
      },
      "cell_type": "code",
      "source": [
        "L, D = scipy.sparse.csgraph.laplacian(csgraph=A1, return_diag=True, use_out_degree=True) \n",
        "L = L.todense()\n",
        "print('\\nLaplacian matrix from option 1\\n\\n', L,'\\n\\nThis Laplacian does not appear to be useful.')"
      ],
      "execution_count": 57,
      "outputs": [
        {
          "output_type": "stream",
          "text": [
            "\n",
            "Laplacian matrix from option 1\n",
            "\n",
            " [[ 2 -1 -1  0  0]\n",
            " [ 0  2 -1 -1  0]\n",
            " [ 0  0  2 -1 -1]\n",
            " [ 0  0  0  1 -1]\n",
            " [ 0  0  0  0  0]] \n",
            "\n",
            "This Laplacian does not appear to be useful.\n"
          ],
          "name": "stdout"
        }
      ]
    },
    {
      "metadata": {
        "id": "x1CbQjFmMhDV",
        "colab_type": "text"
      },
      "cell_type": "markdown",
      "source": [
        "**Get Laplacian Matrix from Incidence Matrix B**\n",
        "\n",
        "Important: the order of the matrix multiplication depends on the shape of the incidence matrix:\n",
        "\n",
        "\n",
        "*   if nodes are rows and edges are columns: `B * B.T`\n",
        "*   if edges are rows and nodes are columns: `B.T * B`\n",
        "\n"
      ]
    },
    {
      "metadata": {
        "id": "FShkPRYzJYq7",
        "colab_type": "code",
        "colab": {
          "base_uri": "https://localhost:8080/",
          "height": 145
        },
        "outputId": "65d01af6-8392-41ff-f0c1-fafa15e15ce5"
      },
      "cell_type": "code",
      "source": [
        "L = B * B.T\n",
        "L = L.todense()\n",
        "print('Laplacian Matrix of the node -> edges incidence matrix of G:\\n\\n', L)"
      ],
      "execution_count": 55,
      "outputs": [
        {
          "output_type": "stream",
          "text": [
            "Laplacian Matrix of the node -> edges incidence matrix of G:\n",
            "\n",
            " [[ 2. -1. -1.  0.  0.]\n",
            " [-1.  3. -1. -1.  0.]\n",
            " [-1. -1.  4. -1. -1.]\n",
            " [ 0. -1. -1.  3. -1.]\n",
            " [ 0.  0. -1. -1.  2.]]\n"
          ],
          "name": "stdout"
        }
      ]
    }
  ]
}