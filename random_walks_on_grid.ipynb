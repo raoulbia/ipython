{
  "nbformat": 4,
  "nbformat_minor": 0,
  "metadata": {
    "colab": {
      "name": "random_walks_on_grid.ipynb",
      "version": "0.3.2",
      "provenance": [],
      "collapsed_sections": []
    },
    "kernelspec": {
      "name": "python3",
      "display_name": "Python 3"
    }
  },
  "cells": [
    {
      "metadata": {
        "id": "5kK4V0tdykQJ",
        "colab_type": "text"
      },
      "cell_type": "markdown",
      "source": [
        "# Graphs: Random Walks on a Grid\n",
        "\n",
        "*What is the longest random walk you can take so that on average you will end up 4 bocks or fewer from home?*\n",
        "\n",
        "\n",
        "In this notebook I implement the code from the video tutorial [A Random Walk & Monte Carlo Simulation](https://www.youtube.com/watch?v=BfS2H1y6tzQ) tutorial.\n",
        "\n"
      ]
    },
    {
      "metadata": {
        "id": "UBPIYmutyUx8",
        "colab_type": "code",
        "colab": {
          "base_uri": "https://localhost:8080/",
          "height": 521
        },
        "outputId": "c663e17f-1997-484d-cb15-2200fd2cd4aa"
      },
      "cell_type": "code",
      "source": [
        "import random\n",
        "\n",
        "def random_walk(n):\n",
        "  \"\"\"Return coordinates after 'n' block random walk\"\"\"\n",
        "  x, y = 0, 0\n",
        "  for i in range(n):\n",
        "    dx, dy = random.choice([(0, 1), (0, -1), (1, 0), (-1, 0)])\n",
        "    x += dx\n",
        "    y += dy\n",
        "  return x, y\n",
        "\n",
        "nbr_walks = 1000\n",
        "\n",
        "for walk_length in range(1, 31):\n",
        "  no_transport = 0 # nbr of walks 4 or fewer blocks from home\n",
        "  for i in range(nbr_walks):\n",
        "    x, y = random_walk(walk_length)\n",
        "    distance = abs(x) + abs(y)\n",
        "    if distance <= 4:\n",
        "      no_transport += 1\n",
        "  no_transport_perc = float(no_transport) / nbr_walks * 100\n",
        "  print('Walk Size = {} / % of no transport = {}'.format(walk_length, \n",
        "                                                         no_transport_perc))"
      ],
      "execution_count": 8,
      "outputs": [
        {
          "output_type": "stream",
          "text": [
            "Walk Size = 1 / % of no transport = 100.0\n",
            "Walk Size = 2 / % of no transport = 100.0\n",
            "Walk Size = 3 / % of no transport = 100.0\n",
            "Walk Size = 4 / % of no transport = 100.0\n",
            "Walk Size = 5 / % of no transport = 87.7\n",
            "Walk Size = 6 / % of no transport = 93.89999999999999\n",
            "Walk Size = 7 / % of no transport = 76.4\n",
            "Walk Size = 8 / % of no transport = 84.6\n",
            "Walk Size = 9 / % of no transport = 68.60000000000001\n",
            "Walk Size = 10 / % of no transport = 79.80000000000001\n",
            "Walk Size = 11 / % of no transport = 59.3\n",
            "Walk Size = 12 / % of no transport = 73.1\n",
            "Walk Size = 13 / % of no transport = 55.7\n",
            "Walk Size = 14 / % of no transport = 66.4\n",
            "Walk Size = 15 / % of no transport = 45.5\n",
            "Walk Size = 16 / % of no transport = 60.099999999999994\n",
            "Walk Size = 17 / % of no transport = 42.5\n",
            "Walk Size = 18 / % of no transport = 56.00000000000001\n",
            "Walk Size = 19 / % of no transport = 42.4\n",
            "Walk Size = 20 / % of no transport = 55.00000000000001\n",
            "Walk Size = 21 / % of no transport = 35.699999999999996\n",
            "Walk Size = 22 / % of no transport = 50.1\n",
            "Walk Size = 23 / % of no transport = 35.3\n",
            "Walk Size = 24 / % of no transport = 49.3\n",
            "Walk Size = 25 / % of no transport = 33.5\n",
            "Walk Size = 26 / % of no transport = 43.3\n",
            "Walk Size = 27 / % of no transport = 33.0\n",
            "Walk Size = 28 / % of no transport = 43.7\n",
            "Walk Size = 29 / % of no transport = 26.5\n",
            "Walk Size = 30 / % of no transport = 39.1\n"
          ],
          "name": "stdout"
        }
      ]
    }
  ]
}