{
  "nbformat": 4,
  "nbformat_minor": 0,
  "metadata": {
    "kernelspec": {
      "display_name": "Python 3",
      "language": "python",
      "name": "python3"
    },
    "language_info": {
      "codemirror_mode": {
        "name": "ipython",
        "version": 3
      },
      "file_extension": ".py",
      "mimetype": "text/x-python",
      "name": "python",
      "nbconvert_exporter": "python",
      "pygments_lexer": "ipython3",
      "version": "3.5.2"
    },
    "colab": {
      "name": "qubo_spp.ipynb",
      "provenance": []
    }
  },
  "cells": [
    {
      "cell_type": "markdown",
      "metadata": {
        "id": "sXEZhMShqs4Z",
        "colab_type": "text"
      },
      "source": [
        "### Qubo: Basic Set Packing Problem\n",
        "\n",
        "Given a list of n items, and their weights, select the item with the largest weight.\n",
        "\n",
        "* Decision variables: $x_i$ for i in (1, 2, ...,n)\n",
        "* Objective function: $\\ max\\sum_{i=1}^n w_ix_i \\ $ i.e. $\\ w_1x_1 + w_2x_2 + ... w_nx_n$\n",
        "* Constraint: Select exactly one item from the list i.e. $x_1 + x_2 + ... + x_n = 1$\n",
        "\n",
        "w.r.t. the constraint\n",
        "\n",
        "* the classical constraint $x+y=1$ can be rewritten in QUBO form as follows: \n",
        "$P(1-x-y+2xy)$\n",
        "* thus in the present case the constraint $x_1 + x_2 + ... + x_n = 1$ can be re-written as: \n",
        "\n",
        "    $$P(1 - x_1 - x_2 - ... - x_n + 2x_1x_2 + 2x_1x_3 + ... + 2x_{n-1}x_n)$$\n",
        "    \n",
        "    \n",
        "<br>\n",
        "\n",
        "**Notes**\n",
        "\n",
        "* When coding, don't forget that indexing in Python, and consequently also in the *dadk* library, are zero-based!\n",
        "* Recall that when we maximise a function, we must SUBTRACT the constraint(s) from the Objective Function e.g. $x_1 + x_2 + x_3 + ... - P(1- x_1 - x_2 - ...)$\n",
        "* In the present example we need to apply a multiplication by -1 on two occasions: first when combining polynomials, then telling *dadk* to find the solution. Whether or not this latter case is needed is, I think, dependant on the form of the penalty term. To be further investigated...\n",
        "\n",
        "\n",
        "<br>\n"
      ]
    },
    {
      "cell_type": "code",
      "metadata": {
        "id": "W6_HocpGqs4b",
        "colab_type": "code",
        "colab": {},
        "outputId": "d0b0f773-6def-4611-f540-3b5b217f83e8"
      },
      "source": [
        "# import stuff\n",
        "\n",
        "import itertools\n",
        "import numpy as np\n",
        "from dadk.FujitsuEmulatedDASolver import *\n",
        "emda_solver = FujitsuEmulatedDASolver()"
      ],
      "execution_count": 0,
      "outputs": [
        {
          "output_type": "stream",
          "text": [
            "number of GPU available: 0\n"
          ],
          "name": "stdout"
        }
      ]
    },
    {
      "cell_type": "code",
      "metadata": {
        "id": "Kaq4TFXOqs4h",
        "colab_type": "code",
        "colab": {},
        "outputId": "2688be2a-fa98-43bf-f32c-a4021e35c3ce"
      },
      "source": [
        "# Objective function: max x1 + x2 + x3 + x4\n",
        "def H_obj(items):\n",
        "    H = BinPol()\n",
        "    for item in items:\n",
        "        H.set_term(item[1], (item[0],))\n",
        "    return H\n",
        "\n",
        "\n",
        "# Constraint 1: select exactly one item\n",
        "def H_c1(items, P):\n",
        "    p = BinPol().set_term(1,())\n",
        "    for pair in itertools.combinations(items, r=2):\n",
        "        i = pair[0][0]\n",
        "        j = pair[1][0]        \n",
        "        p.set_term(-1,(i,))\n",
        "        p.set_term(-1,(j,))\n",
        "    p.multiply(p)\n",
        "    p.multiply_scalar(P) \n",
        "    #print(p)\n",
        "    return p\n",
        "\n",
        "def H_all(items, P):\n",
        "    H = BinPol()\n",
        "    H.add(H_obj(items))\n",
        "    H.add(H_c1(items, P).multiply_scalar(-1)) # multiply by -1 to subtract instead of adding\n",
        "    return H\n",
        "\n",
        "# Set of four items (itemId, itemWeight)\n",
        "# Note how ItemId replicates zero-based indexing\n",
        "items = [(0, 7),(1, 2),(2,5),(3,10)] \n",
        "\n",
        "# take a look at the polynomials\n",
        "print('Objective function to maximise:\\n {}'.format(H_obj(items)))\n",
        "print('Constraint polynomial:\\n {}'.format(H_c1(items, P=1)))\n",
        "print('Subtract constraint polynomial from Objective function:\\n {}'\n",
        "      .format(H_all(items, P=1)))"
      ],
      "execution_count": 0,
      "outputs": [
        {
          "output_type": "stream",
          "text": [
            "Objective function to maximise:\n",
            " 7 x_0 + 2 x_1 + 5 x_2 + 10 x_3\n",
            "Constraint polynomial:\n",
            " 1 - 1 x_0 + 2 x_0 x_1 + 2 x_0 x_2 + 2 x_0 x_3 - 1 x_1 + 2 x_1 x_2 + 2 x_1 x_3 - 1 x_2 + 2 x_2 x_3 - 1 x_3\n",
            "Subtract constraint polynomial from Objective function:\n",
            "  - 1 + 8 x_0 - 2 x_0 x_1 - 2 x_0 x_2 - 2 x_0 x_3 + 3 x_1 - 2 x_1 x_2 - 2 x_1 x_3 + 6 x_2 - 2 x_2 x_3 + 11 x_3\n"
          ],
          "name": "stdout"
        }
      ]
    },
    {
      "cell_type": "code",
      "metadata": {
        "id": "7tl6bIS9qs4l",
        "colab_type": "code",
        "colab": {},
        "outputId": "e062cc58-5d9e-450c-8c41-ff4b35fd26f4"
      },
      "source": [
        "# Solve It ...\n",
        "\n",
        "\"\"\"try different values of P\n",
        "note how small values e.g. P=8 do not return a correct answer!\n",
        "\"\"\"\n",
        "items = [(0, 1),(1, 23),(2,5),(3,10)]\n",
        "\n",
        "# try different values for P\n",
        "for P in range(0,14, 2) :\n",
        "    H = H_all(items, P)#.multiply_scalar(-1)\n",
        "    # multiply by -1 to maximize instead of minimize\n",
        "    H.multiply_scalar(-1)\n",
        "    #print('QUBO Polynomial with penalty applied:\\n {}'.format(H))\n",
        "\n",
        "    emda_sol = emda_solver.minimize(H)\n",
        "    x = emda_sol.get_minimum_energy_solution().configuration\n",
        "    cnt_selected = np.count_nonzero(x)\n",
        "    if not cnt_selected == 1:\n",
        "        print('P={} -> invalid solution'.format(P))\n",
        "    else:\n",
        "        print('P={} -> valid solution: {} value: {}'.format(P, x, H.compute(x)))\n",
        "#         print(\"  Solution  %s value %f\" % (x, H.compute(x)))"
      ],
      "execution_count": 0,
      "outputs": [
        {
          "output_type": "stream",
          "text": [
            "P=0 -> invalid solution\n",
            "P=2 -> invalid solution\n",
            "P=4 -> invalid solution\n",
            "P=6 -> invalid solution\n",
            "P=8 -> invalid solution\n",
            "P=10 -> valid solution: [0, 1, 0, 0] value: -23\n",
            "P=12 -> valid solution: [0, 1, 0, 0] value: -23\n"
          ],
          "name": "stdout"
        }
      ]
    }
  ]
}