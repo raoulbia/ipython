{
  "nbformat": 4,
  "nbformat_minor": 0,
  "metadata": {
    "kernelspec": {
      "display_name": "Python 3",
      "language": "python",
      "name": "python3"
    },
    "language_info": {
      "codemirror_mode": {
        "name": "ipython",
        "version": 3
      },
      "file_extension": ".py",
      "mimetype": "text/x-python",
      "name": "python",
      "nbconvert_exporter": "python",
      "pygments_lexer": "ipython3",
      "version": "3.5.2"
    },
    "colab": {
      "name": "qubo_chemical_example.ipynb",
      "provenance": []
    }
  },
  "cells": [
    {
      "cell_type": "markdown",
      "metadata": {
        "id": "ffsRt7sWol_V",
        "colab_type": "text"
      },
      "source": [
        "# Qubo\n",
        "\n",
        "## Chemistry Example"
      ]
    },
    {
      "cell_type": "code",
      "metadata": {
        "id": "ny4E-tZsol_W",
        "colab_type": "code",
        "colab": {},
        "outputId": "16a6f4b6-c945-42f0-e37b-8eb9a5100bf8"
      },
      "source": [
        "# import stuff\n",
        "from collections import OrderedDict\n",
        "import itertools\n",
        "import numpy as np\n",
        "from pprint import pprint\n",
        "from dadk.FujitsuEmulatedDASolver import *\n",
        "emda_solver = FujitsuEmulatedDASolver()"
      ],
      "execution_count": 0,
      "outputs": [
        {
          "output_type": "stream",
          "text": [
            "number of GPU available: 0\n"
          ],
          "name": "stdout"
        }
      ]
    },
    {
      "cell_type": "code",
      "metadata": {
        "scrolled": true,
        "id": "FzOHUa63ol_a",
        "colab_type": "code",
        "colab": {},
        "outputId": "a9a16f49-8d03-4d22-fdb6-5218252b48a1"
      },
      "source": [
        "# set up nested (ordered) Dict\n",
        "\n",
        "# custom class\n",
        "class IndexingArray(OrderedDict):\n",
        "    def __missing__(self, key):\n",
        "        val = self[key] = IndexingArray()\n",
        "        return val\n",
        "    \n",
        "groups = {'H':70, 'CH3':15, 'CF3':69, 'OH':17, 'NH2':16, 'CH2CH3':71}\n",
        "# groups = {'H':1, 'CH3':1, 'CF3':2, 'OH':1, 'NH2':1, 'CH2CH3':2}\n",
        "R0 = np.array(['H', 'CH3', 'CF3', 'OH'])\n",
        "R2 = np.array(['H', 'CH3', 'CF3', 'OH'])\n",
        "R1 = np.array(['H', 'CH3', 'NH2', 'CH2CH3'])\n",
        "R3 = np.array(['H', 'CH3', 'NH2', 'CH2CH3'])\n",
        "items = [R0, R1, R2, R3]\n",
        "    \n",
        "# populate dict\n",
        "d = IndexingArray()\n",
        "k=0\n",
        "for i, r in enumerate([R0, R1, R2, R3]):\n",
        "    for j, g in enumerate(r):\n",
        "        d['R'+str(i)][g] = k\n",
        "        k += 1\n",
        "        \n",
        "pprint(d)\n",
        "pprint(d['R0']['CF3'])"
      ],
      "execution_count": 0,
      "outputs": [
        {
          "output_type": "stream",
          "text": [
            "IndexingArray([('R0',\n",
            "                IndexingArray([('H', 0), ('CH3', 1), ('CF3', 2), ('OH', 3)])),\n",
            "               ('R1',\n",
            "                IndexingArray([('H', 4),\n",
            "                               ('CH3', 5),\n",
            "                               ('NH2', 6),\n",
            "                               ('CH2CH3', 7)])),\n",
            "               ('R2',\n",
            "                IndexingArray([('H', 8), ('CH3', 9), ('CF3', 10), ('OH', 11)])),\n",
            "               ('R3',\n",
            "                IndexingArray([('H', 12),\n",
            "                               ('CH3', 13),\n",
            "                               ('NH2', 14),\n",
            "                               ('CH2CH3', 15)]))])\n",
            "2\n"
          ],
          "name": "stdout"
        }
      ]
    },
    {
      "cell_type": "code",
      "metadata": {
        "scrolled": true,
        "id": "jI_7IGFqol_d",
        "colab_type": "code",
        "colab": {}
      },
      "source": [
        "# Objective function: max x1 + x2 + x3 + x4\n",
        "def H_obj(d):\n",
        "    H = BinPol()\n",
        "    for k, v in d.items():\n",
        "        for group, idx in v.items():\n",
        "            H.set_term(groups[group], (idx,))\n",
        "    return H\n",
        "\n",
        "# print(H_obj(d))"
      ],
      "execution_count": 0,
      "outputs": []
    },
    {
      "cell_type": "code",
      "metadata": {
        "id": "0JJdy8MIol_f",
        "colab_type": "code",
        "colab": {}
      },
      "source": [
        "# Constraint A: select exactly one item -> P(1-x-y+2xy)\n",
        "def H_c1(d, P, r):\n",
        "    p = BinPol().set_term(1,())\n",
        "    list = [(group, idx) for group, idx in d[r].items()]\n",
        "    for pair in itertools.combinations(list, r=2):\n",
        "        p.set_term(-1,(pair[0][1],))\n",
        "        p.set_term(-1,(pair[1][1],))\n",
        "    p.multiply(p)\n",
        "    p.multiply_scalar(P) \n",
        "    return p\n",
        "\n",
        "# print(H_c1(d, r='R0', P=1))"
      ],
      "execution_count": 0,
      "outputs": []
    },
    {
      "cell_type": "code",
      "metadata": {
        "id": "mdLXEnJYol_i",
        "colab_type": "code",
        "colab": {}
      },
      "source": [
        "# Constraint B: Ri and Rj cannot have the same group -> P(xy)\n",
        "def H_c2(d, P, ri, rj):\n",
        "    p = BinPol()\n",
        "    list1 = [(group, idx) for group, idx in d[ri].items()]\n",
        "    list2 = [(group, idx) for group, idx in d[rj].items()]\n",
        "    for pair1 in list1:\n",
        "        for pair2 in list2:\n",
        "            if pair1[0] == pair2[0]:\n",
        "                #print(pair1, pair2)\n",
        "                p.set_term(1, (pair1[1], pair2[1]))\n",
        "    p.multiply_scalar(P) \n",
        "    return p\n",
        "                           \n",
        "# print(H_c2(d, ri='R1', rj='R2', P=1))"
      ],
      "execution_count": 0,
      "outputs": []
    },
    {
      "cell_type": "code",
      "metadata": {
        "id": "Ozu4-cRQol_k",
        "colab_type": "code",
        "colab": {}
      },
      "source": [
        "# combine\n",
        "def H_all(d, P):\n",
        "    H = BinPol()\n",
        "    H.add(H_obj(d))\n",
        "    H.add(H_c1(d, P, r='R0').multiply_scalar(-1)) # multiply by -1 to subtract instead of adding\n",
        "    H.add(H_c1(d, P, r='R1').multiply_scalar(-1)) # same as above\n",
        "    H.add(H_c1(d, P, r='R2').multiply_scalar(-1)) # same as above\n",
        "    H.add(H_c1(d, P, r='R3').multiply_scalar(-1)) # same as above\n",
        "    H.add(H_c2(d, P, ri='R0', rj='R1').multiply_scalar(-1))\n",
        "    H.add(H_c2(d, P, ri='R2', rj='R3').multiply_scalar(-1))\n",
        "    H.add(BinPol().set_term(P, (d['R0']['CF3'], )).set_term(-P, (d['R2']['CF3'], )))\n",
        "    H.add(BinPol().set_term(P, (d['R1']['CH2CH3'], )).set_term(-P, (d['R3']['CH2CH3'], )))\n",
        "    return H\n",
        "\n",
        "# print(H_all(d, P=1))"
      ],
      "execution_count": 0,
      "outputs": []
    },
    {
      "cell_type": "code",
      "metadata": {
        "id": "5derEpleol_m",
        "colab_type": "code",
        "colab": {},
        "outputId": "55bfa8e7-9e2a-453d-be8c-3a2227b549e1"
      },
      "source": [
        "# take a look at the final polynomial\n",
        "print('Subtract constraint polynomial from Objective function:\\n {}'\n",
        "      .format(H_all(d, P=1)))"
      ],
      "execution_count": 0,
      "outputs": [
        {
          "output_type": "stream",
          "text": [
            "Subtract constraint polynomial from Objective function:\n",
            "  - 4 + 71 x_0 - 2 x_0 x_1 - 2 x_0 x_2 - 2 x_0 x_3 - 1 x_0 x_4 + 16 x_1 - 2 x_1 x_2 - 2 x_1 x_3 - 1 x_1 x_5 + 71 x_2 - 2 x_2 x_3 + 18 x_3 + 71 x_4 - 2 x_4 x_5 - 2 x_4 x_6 - 2 x_4 x_7 + 16 x_5 - 2 x_5 x_6 - 2 x_5 x_7 + 17 x_6 - 2 x_6 x_7 + 73 x_7 + 71 x_8 - 2 x_8 x_9 - 2 x_8 x_10 - 2 x_8 x_11 - 1 x_8 x_12 + 16 x_9 - 2 x_9 x_10 - 2 x_9 x_11 - 1 x_9 x_13 + 69 x_10 - 2 x_10 x_11 + 18 x_11 + 71 x_12 - 2 x_12 x_13 - 2 x_12 x_14 - 2 x_12 x_15 + 16 x_13 - 2 x_13 x_14 - 2 x_13 x_15 + 17 x_14 - 2 x_14 x_15 + 71 x_15\n"
          ],
          "name": "stdout"
        }
      ]
    },
    {
      "cell_type": "code",
      "metadata": {
        "id": "xa8o6_UPol_p",
        "colab_type": "code",
        "colab": {},
        "outputId": "c0690f1c-373a-454f-ce77-9a86f0743980"
      },
      "source": [
        "# Solve It ...\n",
        "\n",
        "# try different values for P\n",
        "for P in range(1,100, 10) :\n",
        "    H = H_all(d, P)\n",
        "    H.multiply_scalar(-1) # multiply by -1 to maximize instead of minimize\n",
        "\n",
        "    emda_sol = emda_solver.minimize(H)\n",
        "    x = emda_sol.get_minimum_energy_solution().configuration\n",
        "    cnt_selected = np.count_nonzero(x)\n",
        "    if not cnt_selected == 4:\n",
        "        print('P={} {} -> invalid solution'.format(P, x))\n",
        "    else:\n",
        "        print('P={} -> valid solution: {} value: {}'.format(P, x, H.compute(x)))\n",
        "        selected = [list(np.concatenate(items))[m] for m in np.nonzero(x)[0]]  \n",
        "        weights = [groups[g] for g in selected]\n",
        "        print(\"Selected molecules and their weights:\\n {} {}. Total weight: {}\".format(selected, weights, sum(weights)))\n",
        "        break"
      ],
      "execution_count": 0,
      "outputs": [
        {
          "output_type": "stream",
          "text": [
            "P=1 [1, 1, 1, 1, 1, 1, 1, 1, 1, 1, 1, 1, 1, 1, 1, 1] -> invalid solution\n",
            "P=11 [1, 0, 1, 0, 1, 0, 0, 1, 1, 0, 1, 0, 1, 0, 0, 1] -> invalid solution\n",
            "P=21 [1, 0, 1, 0, 1, 0, 0, 1, 1, 0, 1, 0, 1, 0, 0, 1] -> invalid solution\n",
            "P=31 [1, 0, 1, 0, 1, 0, 0, 1, 1, 0, 1, 0, 1, 0, 0, 1] -> invalid solution\n",
            "P=41 [0, 0, 1, 0, 1, 0, 0, 1, 1, 0, 0, 0, 0, 0, 0, 1] -> invalid solution\n",
            "P=51 [0, 0, 1, 0, 1, 0, 0, 1, 1, 0, 0, 0, 0, 0, 0, 1] -> invalid solution\n",
            "P=61 [0, 0, 1, 0, 1, 0, 0, 1, 0, 0, 0, 1, 1, 0, 0, 0] -> invalid solution\n",
            "P=71 -> valid solution: [0, 0, 1, 0, 0, 0, 0, 1, 0, 0, 0, 1, 1, 0, 0, 0] value: -369\n",
            "Selected molecules and their weights:\n",
            " ['CF3', 'CH2CH3', 'OH', 'H'] [69, 71, 17, 70]. Total weight: 227\n"
          ],
          "name": "stdout"
        }
      ]
    }
  ]
}