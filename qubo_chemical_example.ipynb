{
  "nbformat": 4,
  "nbformat_minor": 0,
  "metadata": {
    "kernelspec": {
      "display_name": "Python 3",
      "language": "python",
      "name": "python3"
    },
    "language_info": {
      "codemirror_mode": {
        "name": "ipython",
        "version": 3
      },
      "file_extension": ".py",
      "mimetype": "text/x-python",
      "name": "python",
      "nbconvert_exporter": "python",
      "pygments_lexer": "ipython3",
      "version": "3.5.2"
    },
    "colab": {
      "name": "qubo_chemical_example.ipynb",
      "provenance": []
    }
  },
  "cells": [
    {
      "cell_type": "markdown",
      "metadata": {
        "id": "leYrn63Rxwt2",
        "colab_type": "text"
      },
      "source": [
        "# Qubo\n",
        "\n",
        "## Chemistry Example"
      ]
    },
    {
      "cell_type": "code",
      "metadata": {
        "id": "CCni72WPxwt5",
        "colab_type": "code",
        "colab": {},
        "outputId": "8e4065fd-8b4b-4c1c-e213-67c77db6d9bd"
      },
      "source": [
        "# import stuff\n",
        "from collections import OrderedDict\n",
        "import itertools\n",
        "import numpy as np\n",
        "from pprint import pprint\n",
        "from dadk.FujitsuEmulatedDASolver import *\n",
        "emda_solver = FujitsuEmulatedDASolver()"
      ],
      "execution_count": 0,
      "outputs": [
        {
          "output_type": "stream",
          "text": [
            "number of GPU available: 0\n"
          ],
          "name": "stdout"
        }
      ]
    },
    {
      "cell_type": "code",
      "metadata": {
        "scrolled": true,
        "id": "bPGywhl_xwt-",
        "colab_type": "code",
        "colab": {},
        "outputId": "6813c616-fbf2-4fa2-acdd-45299f4378ad"
      },
      "source": [
        "# set up nested (ordered) Dict\n",
        "\n",
        "# custom class\n",
        "class IndexingArray(OrderedDict):\n",
        "    def __missing__(self, key):\n",
        "        val = self[key] = IndexingArray()\n",
        "        return val\n",
        "    \n",
        "groups = {'H':1, 'CH3':15, 'CF3':69, 'OH':17, 'NH2':16, 'CH2CH3':29}\n",
        "# groups = {'H':1, 'CH3':1, 'CF3':2, 'OH':1, 'NH2':1, 'CH2CH3':2}\n",
        "\n",
        "R0 = np.array(['H', 'CH3', 'CF3', 'OH'])      # R1\n",
        "R1 = np.array(['H', 'CH3', 'NH2', 'CH2CH3'])  # R2\n",
        "R2 = np.array(['H', 'CH3', 'CF3', 'OH'])      # R3 \n",
        "R3 = np.array(['H', 'CH3', 'NH2', 'CH2CH3'])  # R4\n",
        "items = [R0, R1, R2, R3]\n",
        "    \n",
        "# populate dict\n",
        "d = IndexingArray()\n",
        "k=0\n",
        "for i, r in enumerate([R0, R1, R2, R3]):\n",
        "    for j, g in enumerate(r):\n",
        "        d['R'+str(i)][g] = k\n",
        "        k += 1\n",
        "        \n",
        "pprint(d)\n",
        "pprint(d['R0']['CF3'])"
      ],
      "execution_count": 0,
      "outputs": [
        {
          "output_type": "stream",
          "text": [
            "IndexingArray([('R0',\n",
            "                IndexingArray([('H', 0), ('CH3', 1), ('CF3', 2), ('OH', 3)])),\n",
            "               ('R1',\n",
            "                IndexingArray([('H', 4),\n",
            "                               ('CH3', 5),\n",
            "                               ('NH2', 6),\n",
            "                               ('CH2CH3', 7)])),\n",
            "               ('R2',\n",
            "                IndexingArray([('H', 8), ('CH3', 9), ('CF3', 10), ('OH', 11)])),\n",
            "               ('R3',\n",
            "                IndexingArray([('H', 12),\n",
            "                               ('CH3', 13),\n",
            "                               ('NH2', 14),\n",
            "                               ('CH2CH3', 15)]))])\n",
            "2\n"
          ],
          "name": "stdout"
        }
      ]
    },
    {
      "cell_type": "code",
      "metadata": {
        "scrolled": true,
        "id": "ijqEzLq4xwuA",
        "colab_type": "code",
        "colab": {}
      },
      "source": [
        "# Objective function: max x1 + x2 + x3 + x4\n",
        "def H_obj(d):\n",
        "    H = BinPol()\n",
        "    for k, v in d.items():\n",
        "        for group, idx in v.items():\n",
        "            H.set_term(groups[group], (idx,))\n",
        "    return H\n",
        "\n",
        "# print(H_obj(d))"
      ],
      "execution_count": 0,
      "outputs": []
    },
    {
      "cell_type": "code",
      "metadata": {
        "id": "CDXZeERQxwuD",
        "colab_type": "code",
        "colab": {}
      },
      "source": [
        "# Constraint A: select exactly one item -> P(1-x-y+2xy)\n",
        "def H_c1(d, P, r):\n",
        "    p = BinPol().set_term(1,())\n",
        "    list = [(group, idx) for group, idx in d[r].items()]\n",
        "    for pair in itertools.combinations(list, r=2):\n",
        "        p.set_term(-1,(pair[0][1],))\n",
        "        p.set_term(-1,(pair[1][1],))\n",
        "    p.multiply(p)\n",
        "    p.multiply_scalar(P) \n",
        "    return p\n",
        "\n",
        "# print(H_c1(d, r='R0', P=1))"
      ],
      "execution_count": 0,
      "outputs": []
    },
    {
      "cell_type": "code",
      "metadata": {
        "id": "ZgLpo-_vxwuF",
        "colab_type": "code",
        "colab": {}
      },
      "source": [
        "# Constraint B: Ri and Rj cannot have the same group -> P(xy)\n",
        "def H_c2(d, P, ri, rj):\n",
        "    p = BinPol()\n",
        "    list1 = [(group, idx) for group, idx in d[ri].items()]\n",
        "    list2 = [(group, idx) for group, idx in d[rj].items()]\n",
        "    for pair1 in list1:\n",
        "        for pair2 in list2:\n",
        "            if pair1[0] == pair2[0]:\n",
        "                p.set_term(1, (pair1[1], pair2[1]))\n",
        "    p.multiply_scalar(P) \n",
        "    return p\n",
        "                           \n",
        "# print(H_c2(d, ri='R0', rj='R1', P=1))"
      ],
      "execution_count": 0,
      "outputs": []
    },
    {
      "cell_type": "code",
      "metadata": {
        "id": "tUahrbFJxwuH",
        "colab_type": "code",
        "colab": {}
      },
      "source": [
        "# Constraint C: g can be selected at most once (i.e. x + y <= 0) -> P(xy)\n",
        "def H_c3(d, P, g, ri, rj):\n",
        "    p = BinPol()\n",
        "    p.set_term(1, (d[ri][g], d[rj][g]))\n",
        "    p.multiply_scalar(4*P) \n",
        "    return p\n",
        "\n",
        "# print(H_c3(d, P=1, g='CF3', ri='R0', rj='R2'))"
      ],
      "execution_count": 0,
      "outputs": []
    },
    {
      "cell_type": "code",
      "metadata": {
        "id": "hfKfwlFcxwuL",
        "colab_type": "code",
        "colab": {}
      },
      "source": [
        "# combine\n",
        "def H_all(d, P):\n",
        "    \"\"\"Note how all constraints are multiplied by -1 to subtract instead of adding\"\"\"\n",
        "    H = BinPol()\n",
        "    H.add(H_obj(d))\n",
        "    H.add(H_c1(d, P, r='R0').multiply_scalar(-1)) \n",
        "    H.add(H_c1(d, P, r='R1').multiply_scalar(-1))\n",
        "    H.add(H_c1(d, P, r='R2').multiply_scalar(-1))\n",
        "    H.add(H_c1(d, P, r='R3').multiply_scalar(-1))\n",
        "    H.add(H_c2(d, P, ri='R0', rj='R1').multiply_scalar(-1))\n",
        "    H.add(H_c2(d, P, ri='R2', rj='R3').multiply_scalar(-1))\n",
        "    H.add(H_c3(d, P, g='CF3', ri='R0', rj='R2').multiply_scalar(-1))\n",
        "    H.add(H_c3(d, P, g='CH2CH3', ri='R1', rj='R3').multiply_scalar(-1))\n",
        "    return H\n",
        "\n",
        "# print(H_all(d, P=1))"
      ],
      "execution_count": 0,
      "outputs": []
    },
    {
      "cell_type": "code",
      "metadata": {
        "id": "HYzYyNBTxwuN",
        "colab_type": "code",
        "colab": {},
        "outputId": "187c47b2-ac26-4f7c-807a-f36acd22e2f3"
      },
      "source": [
        "# Solve It ...\n",
        "\n",
        "# try different values for P\n",
        "for P in range(1,100, 10) :\n",
        "    H = H_all(d, P)\n",
        "    H.multiply_scalar(-1) # multiply by -1 to maximize instead of minimize\n",
        "\n",
        "    emda_sol = emda_solver.minimize(H)\n",
        "    x = emda_sol.get_minimum_energy_solution().configuration\n",
        "    cnt_selected = np.count_nonzero(x)\n",
        "    if not cnt_selected == 4:\n",
        "        print('P={} {} -> invalid solution'.format(P, x))\n",
        "    else:\n",
        "        print('P={} -> valid solution: {} value: {}'.format(P, x, H.compute(x)))\n",
        "        selected = [list(np.concatenate(items))[m] for m in np.nonzero(x)[0]]  \n",
        "        weights = [groups[g] for g in selected]\n",
        "        print(\"Selected molecules and their weights:\\n {} {}. Total weight: {}\".format(selected, weights, sum(weights)))\n",
        "        break"
      ],
      "execution_count": 0,
      "outputs": [
        {
          "output_type": "stream",
          "text": [
            "P=1 [0, 1, 1, 1, 0, 1, 1, 1, 0, 1, 1, 1, 0, 1, 1, 1] -> invalid solution\n",
            "P=11 [0, 0, 1, 1, 0, 1, 1, 0, 0, 0, 1, 1, 0, 0, 1, 1] -> invalid solution\n",
            "P=21 -> valid solution: [0, 0, 1, 0, 0, 0, 1, 0, 0, 0, 0, 1, 0, 0, 0, 1] value: -131\n",
            "Selected molecules and their weights:\n",
            " ['CF3', 'NH2', 'OH', 'CH2CH3'] [69, 16, 17, 29]. Total weight: 131\n"
          ],
          "name": "stdout"
        }
      ]
    }
  ]
}