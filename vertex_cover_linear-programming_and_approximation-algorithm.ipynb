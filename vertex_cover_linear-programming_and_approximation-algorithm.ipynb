{
  "nbformat": 4,
  "nbformat_minor": 0,
  "metadata": {
    "colab": {
      "name": "LP_vertex_cover_8_edges.ipynb",
      "version": "0.3.2",
      "provenance": [],
      "collapsed_sections": []
    },
    "kernelspec": {
      "name": "python3",
      "display_name": "Python 3"
    }
  },
  "cells": [
    {
      "cell_type": "code",
      "metadata": {
        "id": "eT3zZHmAuOyb",
        "colab_type": "code",
        "colab": {}
      },
      "source": [
        "!pip install pulp"
      ],
      "execution_count": 0,
      "outputs": []
    },
    {
      "cell_type": "code",
      "metadata": {
        "id": "u2ZlXrw6ufkH",
        "colab_type": "code",
        "outputId": "96265ec4-2530-4b23-db53-b40a38a7a84a",
        "colab": {
          "base_uri": "https://localhost:8080/",
          "height": 35
        }
      },
      "source": [
        "from pulp import *\n",
        "import networkx as nx\n",
        "import matplotlib.pyplot as plt\n",
        "print(nx.__version__)"
      ],
      "execution_count": 0,
      "outputs": [
        {
          "output_type": "stream",
          "text": [
            "2.3\n"
          ],
          "name": "stdout"
        }
      ]
    },
    {
      "cell_type": "code",
      "metadata": {
        "id": "4dNh7Urix5be",
        "colab_type": "code",
        "colab": {}
      },
      "source": [
        "# graph taken from here: https://www.coursera.org/learn/advanced-algorithms-and-complexity/lecture/LAat2/vertex-cover\n",
        "\n",
        "G = nx.Graph()\n",
        "G.add_edge(1,2)\n",
        "G.add_edge(1,8)\n",
        "G.add_edge(1,4)\n",
        "G.add_edge(1,7)\n",
        "G.add_edge(2,4)\n",
        "G.add_edge(2,6)\n",
        "G.add_edge(3,6)\n",
        "G.add_edge(3,4)\n",
        "G.add_edge(4,5)\n",
        "G.add_edge(5,6)\n",
        "G.add_edge(6,7)\n",
        "G.add_edge(7,8)"
      ],
      "execution_count": 0,
      "outputs": []
    },
    {
      "cell_type": "code",
      "metadata": {
        "id": "0xrhxc8jyNQt",
        "colab_type": "code",
        "outputId": "6a286dfc-13ac-42ce-b173-9a1c384088ab",
        "colab": {
          "base_uri": "https://localhost:8080/",
          "height": 319
        }
      },
      "source": [
        "fixed_positions = {1:(2,6), 2:(4,6), 3:(6,4), 4:(6,2), 5:(4,0), 6:(2,0), \n",
        "                   7:(0,2), 8:(0,4)}\n",
        "fixed_nodes = fixed_positions.keys()\n",
        "pos = nx.spring_layout(G, pos=fixed_positions, fixed=fixed_nodes)\n",
        "nx.draw(G, pos, with_labels = True, node_color='lightgrey')\n",
        "plt.show()"
      ],
      "execution_count": 0,
      "outputs": [
        {
          "output_type": "display_data",
          "data": {
            "image/png": "[encoded data removed]",
            "text/plain": [
              "<Figure size 432x288 with 1 Axes>"
            ]
          },
          "metadata": {
            "tags": []
          }
        }
      ]
    },
    {
      "cell_type": "markdown",
      "metadata": {
        "id": "r97bRSwIpkGg",
        "colab_type": "text"
      },
      "source": [
        "### LP Approximation"
      ]
    },
    {
      "cell_type": "code",
      "metadata": {
        "id": "O-aWyiW8uj3u",
        "colab_type": "code",
        "outputId": "e7810d32-3747-480b-9581-87b44002336d",
        "colab": {
          "base_uri": "https://localhost:8080/",
          "height": 676
        }
      },
      "source": [
        "problem = LpProblem(\"problemName\", LpMinimize) # could name it \"model\"\n",
        "\n",
        "# variables\n",
        "nodes = LpVariable.dicts(\"nodes\", list(range(8)), 0, 1, LpBinary)\n",
        "# print(nodes)\n",
        "\n",
        "# constraints\n",
        "problem += nodes[0] + nodes[1] >= 1\n",
        "problem += nodes[0] + nodes[7] >= 1\n",
        "problem += nodes[0] + nodes[3] >= 1\n",
        "problem += nodes[0] + nodes[6] >= 1\n",
        "problem += nodes[1] + nodes[3] >= 1\n",
        "problem += nodes[1] + nodes[5] >= 1\n",
        "problem += nodes[2] + nodes[5] >= 1\n",
        "problem += nodes[2] + nodes[3] >= 1\n",
        "problem += nodes[3] + nodes[4] >= 1\n",
        "problem += nodes[4] + nodes[5] >= 1\n",
        "problem += nodes[5] + nodes[6] >= 1\n",
        "problem += nodes[6] + nodes[7] >= 1\n",
        "\n",
        "# objective function\n",
        "problem += sum(nodes[0] + nodes[1] + nodes[2] + nodes[3] + nodes[4] \n",
        "           + nodes[5] + nodes[6] + nodes[7])\n",
        "print(problem)"
      ],
      "execution_count": 0,
      "outputs": [
        {
          "output_type": "stream",
          "text": [
            "problemName:\n",
            "MINIMIZE\n",
            "1*nodes_0 + 1*nodes_1 + 1*nodes_2 + 1*nodes_3 + 1*nodes_4 + 1*nodes_5 + 1*nodes_6 + 1*nodes_7 + 0\n",
            "SUBJECT TO\n",
            "_C1: nodes_0 + nodes_1 >= 1\n",
            "\n",
            "_C2: nodes_0 + nodes_7 >= 1\n",
            "\n",
            "_C3: nodes_0 + nodes_3 >= 1\n",
            "\n",
            "_C4: nodes_0 + nodes_6 >= 1\n",
            "\n",
            "_C5: nodes_1 + nodes_3 >= 1\n",
            "\n",
            "_C6: nodes_1 + nodes_5 >= 1\n",
            "\n",
            "_C7: nodes_2 + nodes_5 >= 1\n",
            "\n",
            "_C8: nodes_2 + nodes_3 >= 1\n",
            "\n",
            "_C9: nodes_3 + nodes_4 >= 1\n",
            "\n",
            "_C10: nodes_4 + nodes_5 >= 1\n",
            "\n",
            "_C11: nodes_5 + nodes_6 >= 1\n",
            "\n",
            "_C12: nodes_6 + nodes_7 >= 1\n",
            "\n",
            "VARIABLES\n",
            "0 <= nodes_0 <= 1 Integer\n",
            "0 <= nodes_1 <= 1 Integer\n",
            "0 <= nodes_2 <= 1 Integer\n",
            "0 <= nodes_3 <= 1 Integer\n",
            "0 <= nodes_4 <= 1 Integer\n",
            "0 <= nodes_5 <= 1 Integer\n",
            "0 <= nodes_6 <= 1 Integer\n",
            "0 <= nodes_7 <= 1 Integer\n",
            "\n"
          ],
          "name": "stdout"
        }
      ]
    },
    {
      "cell_type": "code",
      "metadata": {
        "id": "e9LDt2YK3Cm1",
        "colab_type": "code",
        "outputId": "a9627750-54a4-4294-b3ef-f5087d7ba418",
        "colab": {
          "base_uri": "https://localhost:8080/",
          "height": 208
        }
      },
      "source": [
        "print(problem.solve())\n",
        "print(LpStatus[problem.status])\n",
        "\n",
        "# optimized value of the objective function\n",
        "print(f\"Objective function: {value(problem.objective)}\")\n",
        "\n",
        "for i in range(8):\n",
        "  print(f\"{i} : {nodes[i].varValue}\")\n",
        "  "
      ],
      "execution_count": 0,
      "outputs": [
        {
          "output_type": "stream",
          "text": [
            "1\n",
            "Optimal\n",
            "Objective function: 4.0\n",
            "0 : 1.0\n",
            "1 : 0.0\n",
            "2 : 0.0\n",
            "3 : 1.0\n",
            "4 : 0.0\n",
            "5 : 1.0\n",
            "6 : 0.0\n",
            "7 : 1.0\n"
          ],
          "name": "stdout"
        }
      ]
    },
    {
      "cell_type": "markdown",
      "metadata": {
        "id": "kv3vIs7uJWQH",
        "colab_type": "text"
      },
      "source": [
        "### Approximation Algorithm (non-LP)\n",
        "\n",
        "```\n",
        "C <- empty set\n",
        "While E is not empty\n",
        "    {u,v} <- any edge from E\n",
        "    add {u,v} to C\n",
        "    remove from E all edges incident to u,v\n",
        "return C\n",
        "```"
      ]
    },
    {
      "cell_type": "code",
      "metadata": {
        "id": "pn4vQ9qoz83h",
        "colab_type": "code",
        "outputId": "8b69ef6e-f67b-4d4c-d24d-660ab4dea4e4",
        "colab": {
          "base_uri": "https://localhost:8080/",
          "height": 416
        }
      },
      "source": [
        "from random import sample\n",
        "\n",
        "H = G.copy()\n",
        "C = set()\n",
        "E = list(H.edges())\n",
        "# print(sample(E, 1))\n",
        "\n",
        "print(E)\n",
        "while len(E) > 0:\n",
        "  \n",
        "  # get any edge from E\n",
        "  e = sample(E, 1)\n",
        "  print(f\"randomly selected edge: {e}\")\n",
        "  \n",
        "  # select the nodes from this edge\n",
        "  u = e[0][0]\n",
        "  v = e[0][1]\n",
        "  \n",
        "  # add {u,v} to C\n",
        "  C.add(u)\n",
        "  C.add(v) \n",
        "  print(f\"nodes added to C: {u,v}\")\n",
        "  \n",
        "  # get all edges incident to u and v\n",
        "  ebunch = list(H.edges([u,v]))\n",
        "  print(f\"edges incident to u and v: {ebunch}\")\n",
        "  \n",
        "  # remove those edges from graph\n",
        "  for e in ebunch:\n",
        "    #print(e[0],e[1])\n",
        "    H.remove_edge(e[0], e[1])\n",
        "    E = list(H.edges())\n",
        "  print(f\"remaining edges: {E}\\n\")\n",
        "  \n",
        "  # recreate graph from remaining edges\n",
        "  H = nx.Graph()\n",
        "  H.add_edges_from(list(E))\n",
        "  \n",
        "print(C)\n",
        "print(f\"# nodes in selected vertex cover: {len(C)}\")\n"
      ],
      "execution_count": 0,
      "outputs": [
        {
          "output_type": "stream",
          "text": [
            "[(1, 2), (1, 8), (1, 4), (1, 7), (2, 4), (2, 6), (8, 7), (4, 3), (4, 5), (7, 6), (6, 3), (6, 5)]\n",
            "randomly selected edge: [(4, 3)]\n",
            "nodes added to C: (4, 3)\n",
            "edges incident to u and v: [(4, 1), (4, 2), (4, 3), (4, 5), (3, 6)]\n",
            "remaining edges: [(1, 2), (1, 8), (1, 7), (2, 6), (8, 7), (7, 6), (6, 5)]\n",
            "\n",
            "randomly selected edge: [(6, 5)]\n",
            "nodes added to C: (6, 5)\n",
            "edges incident to u and v: [(6, 2), (6, 7), (6, 5)]\n",
            "remaining edges: [(1, 2), (1, 8), (1, 7), (8, 7)]\n",
            "\n",
            "randomly selected edge: [(8, 7)]\n",
            "nodes added to C: (8, 7)\n",
            "edges incident to u and v: [(8, 1), (8, 7), (7, 1)]\n",
            "remaining edges: [(1, 2)]\n",
            "\n",
            "randomly selected edge: [(1, 2)]\n",
            "nodes added to C: (1, 2)\n",
            "edges incident to u and v: [(1, 2)]\n",
            "remaining edges: []\n",
            "\n",
            "{1, 2, 3, 4, 5, 6, 7, 8}\n",
            "# nodes in selected vertex cover: 8\n"
          ],
          "name": "stdout"
        }
      ]
    },
    {
      "cell_type": "code",
      "metadata": {
        "id": "Lx16InrIzZLt",
        "colab_type": "code",
        "colab": {}
      },
      "source": [
        ""
      ],
      "execution_count": 0,
      "outputs": []
    }
  ]
}